{
  "nbformat": 4,
  "nbformat_minor": 0,
  "metadata": {
    "colab": {
      "name": "Demo_NLP.ipynb",
      "provenance": [],
      "collapsed_sections": []
    },
    "kernelspec": {
      "name": "python3",
      "display_name": "Python 3"
    }
  },
  "cells": [
    {
      "cell_type": "code",
      "metadata": {
        "colab": {
          "base_uri": "https://localhost:8080/"
        },
        "id": "10HD2LWBneiC",
        "outputId": "3ea8c37d-212f-4bc7-8d12-be760ea26ddb"
      },
      "source": [
        "# Workspace setup\n",
        "from google.colab import drive\n",
        "drive.mount(\"/google_drive\")\n",
        "WORKSPACE_PATH = \"/google_drive/My Drive/NLP\""
      ],
      "execution_count": 1,
      "outputs": [
        {
          "output_type": "stream",
          "text": [
            "Mounted at /google_drive\n"
          ],
          "name": "stdout"
        }
      ]
    },
    {
      "cell_type": "code",
      "metadata": {
        "colab": {
          "base_uri": "https://localhost:8080/"
        },
        "id": "knl8xvAvllyn",
        "outputId": "21322db2-60d4-4cd3-a720-37df540dec4c"
      },
      "source": [
        "!pip install ohmeow-blurr -q\n",
        "!pip install datasets -q\n",
        "!pip install bert-score -q\n",
        "!pip install rouge"
      ],
      "execution_count": 2,
      "outputs": [
        {
          "output_type": "stream",
          "text": [
            "\u001b[K     |████████████████████████████████| 71kB 3.8MB/s \n",
            "\u001b[K     |████████████████████████████████| 1.1MB 7.2MB/s \n",
            "\u001b[K     |████████████████████████████████| 194kB 26.2MB/s \n",
            "\u001b[K     |████████████████████████████████| 7.7MB 38.7MB/s \n",
            "\u001b[K     |████████████████████████████████| 163kB 60.6MB/s \n",
            "\u001b[K     |████████████████████████████████| 1.5MB 61.6MB/s \n",
            "\u001b[K     |████████████████████████████████| 51kB 8.4MB/s \n",
            "\u001b[K     |████████████████████████████████| 4.1MB 56.5MB/s \n",
            "\u001b[K     |████████████████████████████████| 61kB 9.6MB/s \n",
            "\u001b[K     |████████████████████████████████| 17.7MB 256kB/s \n",
            "\u001b[K     |████████████████████████████████| 245kB 59.6MB/s \n",
            "\u001b[K     |████████████████████████████████| 2.9MB 59.2MB/s \n",
            "\u001b[K     |████████████████████████████████| 890kB 64.2MB/s \n",
            "\u001b[?25h  Building wheel for seqeval (setup.py) ... \u001b[?25l\u001b[?25hdone\n",
            "  Building wheel for sacremoses (setup.py) ... \u001b[?25l\u001b[?25hdone\n",
            "\u001b[K     |████████████████████████████████| 61kB 3.6MB/s \n",
            "\u001b[?25hCollecting rouge\n",
            "  Downloading https://files.pythonhosted.org/packages/43/cc/e18e33be20971ff73a056ebdb023476b5a545e744e3fc22acd8c758f1e0d/rouge-1.0.0-py3-none-any.whl\n",
            "Requirement already satisfied: six in /usr/local/lib/python3.6/dist-packages (from rouge) (1.15.0)\n",
            "Installing collected packages: rouge\n",
            "Successfully installed rouge-1.0.0\n"
          ],
          "name": "stdout"
        }
      ]
    },
    {
      "cell_type": "code",
      "metadata": {
        "id": "nweZlHnXl0We",
        "colab": {
          "base_uri": "https://localhost:8080/"
        },
        "outputId": "14a83e6f-bbf8-4c00-9748-fc96b4548633"
      },
      "source": [
        "import pandas as pd\n",
        "from fastai.text.all import *\n",
        "from transformers import *\n",
        "\n",
        "from blurr.data.all import *\n",
        "from blurr.modeling.all import *"
      ],
      "execution_count": 3,
      "outputs": [
        {
          "output_type": "stream",
          "text": [
            "[nltk_data] Downloading package wordnet to /root/nltk_data...\n",
            "[nltk_data]   Unzipping corpora/wordnet.zip.\n"
          ],
          "name": "stdout"
        }
      ]
    },
    {
      "cell_type": "code",
      "metadata": {
        "colab": {
          "base_uri": "https://localhost:8080/"
        },
        "id": "Wa3Zu1zVmTpk",
        "outputId": "248fa450-01c8-4d47-f13b-82098857e896"
      },
      "source": [
        "!pip install pypdf2"
      ],
      "execution_count": 4,
      "outputs": [
        {
          "output_type": "stream",
          "text": [
            "Collecting pypdf2\n",
            "\u001b[?25l  Downloading https://files.pythonhosted.org/packages/b4/01/68fcc0d43daf4c6bdbc6b33cc3f77bda531c86b174cac56ef0ffdb96faab/PyPDF2-1.26.0.tar.gz (77kB)\n",
            "\u001b[K     |████████████████████████████████| 81kB 660kB/s \n",
            "\u001b[?25hBuilding wheels for collected packages: pypdf2\n",
            "  Building wheel for pypdf2 (setup.py) ... \u001b[?25l\u001b[?25hdone\n",
            "  Created wheel for pypdf2: filename=PyPDF2-1.26.0-cp36-none-any.whl size=61087 sha256=ac11e3e521069ed5ac20bd3c5934d5739515e42742fc3f3bcade15de2b4f4e8f\n",
            "  Stored in directory: /root/.cache/pip/wheels/53/84/19/35bc977c8bf5f0c23a8a011aa958acd4da4bbd7a229315c1b7\n",
            "Successfully built pypdf2\n",
            "Installing collected packages: pypdf2\n",
            "Successfully installed pypdf2-1.26.0\n"
          ],
          "name": "stdout"
        }
      ]
    },
    {
      "cell_type": "code",
      "metadata": {
        "colab": {
          "base_uri": "https://localhost:8080/"
        },
        "id": "cviCaEyul-Lx",
        "outputId": "8e7e5cd4-4b25-4ed3-b532-8b2fc888635c"
      },
      "source": [
        "from tkinter import Tk     # from tkinter import Tk for Python 3.x\n",
        "from tkinter.filedialog import askopenfilename\n",
        "import PyPDF2\n",
        "\n",
        "#Tk().withdraw() # we don't want a full GUI, so keep the root window from appearing (this is for working with the terminal)\n",
        "#filename = askopenfilename() # show an \"Open\" dialog box and return the path to the selected file\n",
        "  \n",
        "# creating a pdf file object  \n",
        "pdfFileObj = open(f\"{WORKSPACE_PATH}/Drill_Now_Act.pdf\",'rb')\n",
        "    \n",
        "# creating a pdf reader object  \n",
        "pdfReader = PyPDF2.PdfFileReader(pdfFileObj)\n",
        "\n",
        "txt = ''\n",
        "\n",
        "for page in range(pdfReader.numPages):\n",
        "\tprint('Page: {0}'.format(page))\n",
        "\tpageObj = pdfReader.getPage(page)\n",
        "\ttxt = txt + pageObj.extractText()\n",
        "    \n",
        "print(txt)"
      ],
      "execution_count": 5,
      "outputs": [
        {
          "output_type": "stream",
          "text": [
            "Page: 0\n",
            "Page: 1\n",
            "Drill Now Act\n",
            " \n",
            " \n",
            "SECTION 1. SHORT TITLE. This Act may be cited as the Drill Now Act of \n",
            "2008.SEC. 2. DEFINITIONS. In this Act: Opened area.The\n",
            " \n",
            "term opened area \n",
            "means any area of the outer Continental shelf that before the date of \n",
            "enactment of this Act, was closed to oil or gas leasing; and as of the \n",
            "date of enactment of this Act, is made available for leasing pursuant \n",
            "to section 3 and the amendm\n",
            "ents made by that section. Secretary.The \n",
            "term Secretary means the Secretary of the Interior.SEC. 3. LEASING ON \n",
            "OUTER CONTINENTAL SHELF. Opening New Offshore Areas to Oil and Gas \n",
            "Development. In general.Sections 104 and 105 of the Department of the \n",
            "Interior\n",
            ", Environment, and Related Agencies Appropriations Act, 2008 \n",
            "(Public Law 110161; 121 Stat. 2118) are repealed. Eastern gulf of \n",
            "mexico.Section 104 of the Gulf of Mexico Energy Security Act of 2006 \n",
            "(43 U.S.C. 1331 note; Public Law 109432) is amended to read \n",
            "as \n",
            "follows:SEC. 104. DESIGNATION OF NATIONAL DEFENSE AREAS. The United \n",
            "States reserves the right to designate by and through the Secretary of \n",
            "Defense, with the approval of the President, national defense areas on \n",
            "the outer Continental Shelf pursuant to sec\n",
            "tion 12 of the Outer \n",
            "Continental Shelf Lands Act (43 U.S.C. 1341.. Expedited Leasing.The \n",
            "Secretary may conduct leasing, preleasing, and related activities for \n",
            "any opened area before June 30, 2012, notwithstanding the omission of \n",
            "the opened area from the Ou\n",
            "ter Continental Shelf leasing program \n",
            "developed pursuant to section 18 of the Outer Continental Shelf Lands \n",
            "Act (43 U.S.C. 1344) for the period ending June 30, 2012. No Surface \n",
            "Occupancy.Any lease issued by the Secretary pursuant to section 8 of \n",
            "the Outer \n",
            "Continental Shelf Lands Act (43 U.S.C. 1337) for any \n",
            "submerged land of the outer Continental Shelf in any opened area lying \n",
            "within 25 miles of the coastline of any State shall include a provision \n",
            "prohibiting permanent surface occupancy under that lease wit\n",
            "hin that \n",
            "25mile area. Disposition of Revenues From Outer Continental Shelf Areas \n",
            "Opened Under This Section. In general.Notwithstanding section 9 of the \n",
            "Outer Continental Shelf Lands Act (43 U.S.C. 1338) and subject to the \n",
            "other provisions of this section, \n",
            "the Secretary of the Treasury shall \n",
            "deposit rentals, royalties, bonus bids, and other sums due and payable \n",
            "from any leased tract within an opened area, and from all other leased \n",
            "tracts in any other area for which leases are entered into after the \n",
            "date of e\n",
            "nactment of this Act, as follows: 50 percent in the general \n",
            "fund of the Treasury. 50 in a special account in the Treasury, for \n",
            "allocation by the Secretary among the States in accordance with \n",
            "paragraph . Allocation. In general.For fiscal year 2009 and each \n",
            "fiscal \n",
            "year thereafter, the amount made available under paragraph shall be \n",
            "allocated among States in amounts (based on a formula established by \n",
            "the Secretary by regulation) that are inversely proportional to the \n",
            "respective distances between the point on th\n",
            "e coastline of each State \n",
            "that is closest to the geographical center of the applicable leased \n",
            "tract; and the geographical center of the leased tract. Prohibition on \n",
            "receipt of amounts.No State shall receive any amount under this \n",
            "paragraph from a leased tra\n",
            "ct if the geographical center of that leased \n",
            "tract is more than 200 nautical miles from the coastline of that State. \n",
            "Administration.Amounts made available under paragraph shall be made \n",
            "available, without further appropriation, in accordance with this \n",
            "secti\n",
            "on; remain available until expended; and be in addition to any \n",
            "amounts appropriated under the Outer Continental Shelf Lands Act (43 \n",
            "U.S.C. 1331 et seq.); the Land and Water Conservation Fund Act of 1965 \n",
            "(16 U.S.C. 460l4 et seq.); or any other provision of \n",
            "law. Judicial \n",
            "Review. Filing of complaint. Deadline.Subject to subparagraph , any \n",
            "complaint seeking judicial review of any provision of this section or \n",
            "any action of the Secretary under this section or relating to areas \n",
            "opened under the amendments made by \n",
            "subsection shall be filed in any \n",
            "appropriate United States district court except as provided in clause , \n",
            "not later than the end of the 90day period beginning on the date of the \n",
            "action being challenged; or in the case of a complaint based solely on \n",
            "grounds \n",
            "arising after that period, not later than 90 days after the \n",
            "date on which the complainant knew or reasonably should have known of \n",
            "the grounds for the complaint. Venue.Any complaint seeking judicial \n",
            "review of an action of the Secretary under this section or\n",
            " \n",
            "relating to \n",
            "areas opened under subsection may be filed only in the United States \n",
            "Court of Appeals for the District of Columbia. Limitation on scope of \n",
            "certain review. In general.Judicial review of a decision of the \n",
            "Secretary to conduct a lease sale for ar\n",
            "eas opened under the amendments \n",
            "made by subsection , including the environmental analysis relating to \n",
            "such a decision, shall be limited to whether the Secretary has complied \n",
            "with the terms of this section and the Outer Continental Shelf Lands \n",
            "Act (43 U.S.C\n",
            ". 1331 et seq.); and based upon the administrative record \n",
            "of that decision. Presumption.In any judicial review described in \n",
            "clause , the identification by the Secretary of a preferred course of \n",
            "action to enable leasing to proceed, and the analysis of the S\n",
            "ecretary \n",
            "of any environmental effects of that course of action, shall be \n",
            "presumed to be correct unless shown otherwise by clear and convincing \n",
            "evidence to the contrary. Limitation on other review.Actions of the \n",
            "Secretary with respect to which review could \n",
            "have been obtained under \n",
            "this section shall not be subject to judicial review in any civil or \n",
            "criminal proceeding for enforcement. Repeal of Restriction on Oil Shale \n",
            "Leasing.Section 433 of the Department of the Interior, Environment, and \n",
            "Related Agencies A\n",
            "ppropriations Act, 2008 (Public Law 110161; 121 Stat. \n",
            "2152) is repealed.\n",
            " \n",
            " \n",
            "\n"
          ],
          "name": "stdout"
        }
      ]
    },
    {
      "cell_type": "code",
      "metadata": {
        "colab": {
          "base_uri": "https://localhost:8080/"
        },
        "id": "ALwHhdovqoAZ",
        "outputId": "ac21296d-7edf-44a2-f5b4-ef391a42099a"
      },
      "source": [
        "%cd /content/drive/My\\ Drive/NLP #it is important to change the folder in the drive where the documents and the model is saved"
      ],
      "execution_count": 9,
      "outputs": [
        {
          "output_type": "stream",
          "text": [
            "/content/drive/My Drive/NLP\n"
          ],
          "name": "stdout"
        }
      ]
    },
    {
      "cell_type": "code",
      "metadata": {
        "colab": {
          "base_uri": "https://localhost:8080/"
        },
        "id": "F8qssUBLvesK",
        "outputId": "2dd4960c-8c11-47e8-dff8-a3c2b6fafc06"
      },
      "source": [
        "!pwd\n"
      ],
      "execution_count": 10,
      "outputs": [
        {
          "output_type": "stream",
          "text": [
            "/content/drive/My Drive/NLP\n"
          ],
          "name": "stdout"
        }
      ]
    },
    {
      "cell_type": "code",
      "metadata": {
        "colab": {
          "base_uri": "https://localhost:8080/",
          "height": 103
        },
        "id": "OtBNVdbgzva1",
        "outputId": "5e278ca1-1161-4479-a229-09f630f1c160"
      },
      "source": [
        "inf_learn = load_learner(fname='export_1_1.pkl')\n",
        "str(inf_learn.blurr_generate(txt))"
      ],
      "execution_count": 12,
      "outputs": [
        {
          "output_type": "execute_result",
          "data": {
            "application/vnd.google.colaboratory.intrinsic+json": {
              "type": "string"
            },
            "text/plain": [
              "\"[' Drill Now Act of 2008  Amends the Gulf of Mexico Energy Security Act of 2006  to repeal the requirement that national defense areas on the outer Continental Shelf be designated by and through the Secretary of the Interior, with the approval of the President, in any opened area lying within 25 miles of the coastline of any state.  Prohibits the Secretary from conducting leasing, preleasing, and related activities for the opened area before June 30, 2012, notwithstanding the omission of the opening area from the Ouisconster ContinentalShelf leasing program developed pursuant to the Outer Continental shelf Lands administration']\""
            ]
          },
          "metadata": {
            "tags": []
          },
          "execution_count": 12
        }
      ]
    }
  ]
}