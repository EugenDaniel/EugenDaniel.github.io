{
 "cells": [
  {
   "cell_type": "markdown",
   "metadata": {},
   "source": [
    "# Spotify API \n",
    "Downloading the data and preparing it for the sake of the analysis"
   ]
  },
  {
   "cell_type": "code",
   "execution_count": 4,
   "metadata": {},
   "outputs": [
    {
     "name": "stdout",
     "output_type": "stream",
     "text": [
      "Collecting spotipy\n",
      "  Downloading spotipy-2.16.1-py3-none-any.whl (24 kB)\n",
      "Requirement already satisfied: six>=1.10.0 in c:\\programdata\\anaconda3\\lib\\site-packages (from spotipy) (1.15.0)\n",
      "Requirement already satisfied: requests>=2.20.0 in c:\\programdata\\anaconda3\\lib\\site-packages (from spotipy) (2.24.0)\n",
      "Requirement already satisfied: idna<3,>=2.5 in c:\\programdata\\anaconda3\\lib\\site-packages (from requests>=2.20.0->spotipy) (2.10)\n",
      "Requirement already satisfied: certifi>=2017.4.17 in c:\\programdata\\anaconda3\\lib\\site-packages (from requests>=2.20.0->spotipy) (2020.6.20)\n",
      "Requirement already satisfied: urllib3!=1.25.0,!=1.25.1,<1.26,>=1.21.1 in c:\\programdata\\anaconda3\\lib\\site-packages (from requests>=2.20.0->spotipy) (1.25.9)\n",
      "Requirement already satisfied: chardet<4,>=3.0.2 in c:\\programdata\\anaconda3\\lib\\site-packages (from requests>=2.20.0->spotipy) (3.0.4)\n",
      "Installing collected packages: spotipy\n",
      "Successfully installed spotipy-2.16.1\n",
      "Note: you may need to restart the kernel to use updated packages.\n"
     ]
    }
   ],
   "source": [
    "# pip install spotipy"
   ]
  },
  {
   "cell_type": "markdown",
   "metadata": {},
   "source": [
    "We have decided to generate the dataset ourselves by leveraging the Spotify API and the Spotify library in python to extract and analyze the data \n",
    "\n",
    "Created own developer spotify account (API) \n",
    "\n",
    "Extracted to spotify generated playlist à extracted random samples \n",
    "(Spotify has created over 1400 playlists so far) "
   ]
  },
  {
   "cell_type": "code",
   "execution_count": 37,
   "metadata": {},
   "outputs": [],
   "source": [
    "# Importing the libraries\n",
    "import sys\n",
    "import spotipy\n",
    "import spotipy.util as util\n",
    "import pandas as pd\n",
    "from spotipy.oauth2 import SpotifyClientCredentials\n",
    "import itertools\n",
    "client_credentials_manager = SpotifyClientCredentials('40cd9cd27c7c4689bc36774f5aac188b','10d3a4b01aea4976ac89c831db901a6d')\n",
    "sp = spotipy.Spotify(client_credentials_manager=client_credentials_manager, requests_timeout=20)"
   ]
  },
  {
   "cell_type": "markdown",
   "metadata": {},
   "source": [
    " Retrieving a sample of artists large enough from the artists available on the app. We will be referring to playlists created by Spotify it self and not the ones created by the users. These playlists are a good reference since they will be covering as many genres available as possible. The following command will collect these playlists."
   ]
  },
  {
   "cell_type": "code",
   "execution_count": 38,
   "metadata": {},
   "outputs": [],
   "source": [
    "playlists = sp.user_playlists('spotify')\n",
    "playlist_ids = []\n",
    "while playlists:\n",
    "    for i, playlist in enumerate(playlists['items']):\n",
    "        playlist_ids.append(playlist['id'])\n",
    "    if playlists['next']:\n",
    "        playlists = sp.next(playlists)\n",
    "    else:\n",
    "        playlists = None"
   ]
  },
  {
   "cell_type": "markdown",
   "metadata": {},
   "source": [
    "Gathering the data related to the tracks found in each of the playlists retrieved. The data is inclusive of data related to the artists as well. Duplicate artists problem will be handled and we will transform these information into a dataframe."
   ]
  },
  {
   "cell_type": "code",
   "execution_count": 42,
   "metadata": {},
   "outputs": [],
   "source": [
    "trackslist = [] \n",
    "for j,i in enumerate(playlist_ids):\n",
    "#     if j%50 == 0:\n",
    "#         print(j)\n",
    "    tracks = sp.playlist_tracks(i, limit = 100)\n",
    "    trackslist.append(tracks['items'])\n",
    "    while tracks['next']:\n",
    "        tracks = sp.next(tracks)\n",
    "        trackslist.append(tracks['items'])"
   ]
  },
  {
   "cell_type": "code",
   "execution_count": 45,
   "metadata": {},
   "outputs": [],
   "source": [
    "tracks = [j['track'] for i in trackslist for j in i]\n",
    "artistids = [j['id'] for i in tracks if i!=None for j in i['artists']]\n",
    "artistids = pd.Series(artistids).drop_duplicates()\n",
    "artistids = artistids.dropna()\n",
    "artists = sp.artists(artistids[:50])['artists']\n",
    "for i in range(50,len(artistids),50):\n",
    "    artists.append(sp.artists(artistids[i:(i+50)])['artists'])\n",
    "artists = artists[:50] + [j for i in artists[50:] for j in i]"
   ]
  },
  {
   "cell_type": "markdown",
   "metadata": {},
   "source": [
    "Returning up to 20 related artists for each artist passed as input. An Edge is created between artists if these show up as related. Creating a network of artists!"
   ]
  },
  {
   "cell_type": "code",
   "execution_count": 46,
   "metadata": {},
   "outputs": [
    {
     "data": {
      "text/plain": [
       "37281"
      ]
     },
     "execution_count": 46,
     "metadata": {},
     "output_type": "execute_result"
    }
   ],
   "source": [
    "related_artists = []\n",
    "for j, i in enumerate(artistids):\n",
    "    related_artists.append(sp.artist_related_artists(i))\n",
    "related_artists = [i for i in related_artists if i!= None]\n",
    "related_artists = [i['artists'] for i in related_artists]\n",
    "len(related_artists)"
   ]
  },
  {
   "cell_type": "code",
   "execution_count": 48,
   "metadata": {},
   "outputs": [],
   "source": [
    "relart = related_artists\n",
    "for i in range(len(relart)):\n",
    "    if relart[i]!=[]:\n",
    "        for j in range(len(relart[i])):\n",
    "            relart[i][j].update(source_id = artistids.iloc[i])\n",
    "relart = [j for i in relart for j in i]\n",
    "for i in range(len(relart)):\n",
    "    relart[i]['followers'] = relart[i]['followers']['total']\n",
    "relart = pd.DataFrame.from_dict(relart)"
   ]
  },
  {
   "cell_type": "code",
   "execution_count": 49,
   "metadata": {},
   "outputs": [],
   "source": [
    "artists=pd.DataFrame(artists)"
   ]
  },
  {
   "cell_type": "code",
   "execution_count": 50,
   "metadata": {},
   "outputs": [],
   "source": [
    "all_artist_data = pd.merge(artists, relart, left_on = 'id', right_on = 'source_id',suffixes=('_source', '_related'))\n",
    "all_artist_data = all_artist_data.drop_duplicates(subset = ['source_id','id_related'])\n",
    "all_artist_data = all_artist_data[['followers_source','genres_source','id_source','name_source','popularity_source',\n",
    "                                  'uri_source','followers_related', 'genres_related','id_related', 'name_related',\n",
    "                                   'popularity_related','uri_related']]\n",
    "all_artist_data.to_csv('all_artist_data_final.csv')"
   ]
  },
  {
   "cell_type": "code",
   "execution_count": 51,
   "metadata": {},
   "outputs": [
    {
     "data": {
      "text/html": [
       "<div>\n",
       "<style scoped>\n",
       "    .dataframe tbody tr th:only-of-type {\n",
       "        vertical-align: middle;\n",
       "    }\n",
       "\n",
       "    .dataframe tbody tr th {\n",
       "        vertical-align: top;\n",
       "    }\n",
       "\n",
       "    .dataframe thead th {\n",
       "        text-align: right;\n",
       "    }\n",
       "</style>\n",
       "<table border=\"1\" class=\"dataframe\">\n",
       "  <thead>\n",
       "    <tr style=\"text-align: right;\">\n",
       "      <th></th>\n",
       "      <th>followers_source</th>\n",
       "      <th>genres_source</th>\n",
       "      <th>id_source</th>\n",
       "      <th>name_source</th>\n",
       "      <th>popularity_source</th>\n",
       "      <th>uri_source</th>\n",
       "      <th>followers_related</th>\n",
       "      <th>genres_related</th>\n",
       "      <th>id_related</th>\n",
       "      <th>name_related</th>\n",
       "      <th>popularity_related</th>\n",
       "      <th>uri_related</th>\n",
       "    </tr>\n",
       "  </thead>\n",
       "  <tbody>\n",
       "    <tr>\n",
       "      <th>0</th>\n",
       "      <td>{'href': None, 'total': 34336338}</td>\n",
       "      <td>[dance pop, pop, pop dance, post-teen pop]</td>\n",
       "      <td>06HL4z0CvFAxyc27GXpf02</td>\n",
       "      <td>Taylor Swift</td>\n",
       "      <td>93</td>\n",
       "      <td>spotify:artist:06HL4z0CvFAxyc27GXpf02</td>\n",
       "      <td>23742682</td>\n",
       "      <td>[dance pop, pop, pop dance, post-teen pop]</td>\n",
       "      <td>0C8ZW7ezQVs4URX5aX7Kqx</td>\n",
       "      <td>Selena Gomez</td>\n",
       "      <td>86</td>\n",
       "      <td>spotify:artist:0C8ZW7ezQVs4URX5aX7Kqx</td>\n",
       "    </tr>\n",
       "    <tr>\n",
       "      <th>1</th>\n",
       "      <td>{'href': None, 'total': 34336338}</td>\n",
       "      <td>[dance pop, pop, pop dance, post-teen pop]</td>\n",
       "      <td>06HL4z0CvFAxyc27GXpf02</td>\n",
       "      <td>Taylor Swift</td>\n",
       "      <td>93</td>\n",
       "      <td>spotify:artist:06HL4z0CvFAxyc27GXpf02</td>\n",
       "      <td>13426581</td>\n",
       "      <td>[dance pop, pop, pop dance, post-teen pop]</td>\n",
       "      <td>5YGY8feqx7naU7z4HrwZM6</td>\n",
       "      <td>Miley Cyrus</td>\n",
       "      <td>91</td>\n",
       "      <td>spotify:artist:5YGY8feqx7naU7z4HrwZM6</td>\n",
       "    </tr>\n",
       "    <tr>\n",
       "      <th>2</th>\n",
       "      <td>{'href': None, 'total': 34336338}</td>\n",
       "      <td>[dance pop, pop, pop dance, post-teen pop]</td>\n",
       "      <td>06HL4z0CvFAxyc27GXpf02</td>\n",
       "      <td>Taylor Swift</td>\n",
       "      <td>93</td>\n",
       "      <td>spotify:artist:06HL4z0CvFAxyc27GXpf02</td>\n",
       "      <td>18533992</td>\n",
       "      <td>[dance pop, pop, pop dance, post-teen pop]</td>\n",
       "      <td>6S2OmqARrzebs0tKUEyXyp</td>\n",
       "      <td>Demi Lovato</td>\n",
       "      <td>84</td>\n",
       "      <td>spotify:artist:6S2OmqARrzebs0tKUEyXyp</td>\n",
       "    </tr>\n",
       "    <tr>\n",
       "      <th>3</th>\n",
       "      <td>{'href': None, 'total': 34336338}</td>\n",
       "      <td>[dance pop, pop, pop dance, post-teen pop]</td>\n",
       "      <td>06HL4z0CvFAxyc27GXpf02</td>\n",
       "      <td>Taylor Swift</td>\n",
       "      <td>93</td>\n",
       "      <td>spotify:artist:06HL4z0CvFAxyc27GXpf02</td>\n",
       "      <td>9784381</td>\n",
       "      <td>[dance pop, hip pop, pop, pop dance, post-teen...</td>\n",
       "      <td>6JL8zeS1NmiOftqZTRgdTz</td>\n",
       "      <td>Meghan Trainor</td>\n",
       "      <td>82</td>\n",
       "      <td>spotify:artist:6JL8zeS1NmiOftqZTRgdTz</td>\n",
       "    </tr>\n",
       "    <tr>\n",
       "      <th>4</th>\n",
       "      <td>{'href': None, 'total': 34336338}</td>\n",
       "      <td>[dance pop, pop, pop dance, post-teen pop]</td>\n",
       "      <td>06HL4z0CvFAxyc27GXpf02</td>\n",
       "      <td>Taylor Swift</td>\n",
       "      <td>93</td>\n",
       "      <td>spotify:artist:06HL4z0CvFAxyc27GXpf02</td>\n",
       "      <td>40210307</td>\n",
       "      <td>[canadian pop, pop, post-teen pop]</td>\n",
       "      <td>1uNFoZAHBGtllmzznpCI3s</td>\n",
       "      <td>Justin Bieber</td>\n",
       "      <td>96</td>\n",
       "      <td>spotify:artist:1uNFoZAHBGtllmzznpCI3s</td>\n",
       "    </tr>\n",
       "  </tbody>\n",
       "</table>\n",
       "</div>"
      ],
      "text/plain": [
       "                    followers_source  \\\n",
       "0  {'href': None, 'total': 34336338}   \n",
       "1  {'href': None, 'total': 34336338}   \n",
       "2  {'href': None, 'total': 34336338}   \n",
       "3  {'href': None, 'total': 34336338}   \n",
       "4  {'href': None, 'total': 34336338}   \n",
       "\n",
       "                                genres_source               id_source  \\\n",
       "0  [dance pop, pop, pop dance, post-teen pop]  06HL4z0CvFAxyc27GXpf02   \n",
       "1  [dance pop, pop, pop dance, post-teen pop]  06HL4z0CvFAxyc27GXpf02   \n",
       "2  [dance pop, pop, pop dance, post-teen pop]  06HL4z0CvFAxyc27GXpf02   \n",
       "3  [dance pop, pop, pop dance, post-teen pop]  06HL4z0CvFAxyc27GXpf02   \n",
       "4  [dance pop, pop, pop dance, post-teen pop]  06HL4z0CvFAxyc27GXpf02   \n",
       "\n",
       "    name_source  popularity_source                             uri_source  \\\n",
       "0  Taylor Swift                 93  spotify:artist:06HL4z0CvFAxyc27GXpf02   \n",
       "1  Taylor Swift                 93  spotify:artist:06HL4z0CvFAxyc27GXpf02   \n",
       "2  Taylor Swift                 93  spotify:artist:06HL4z0CvFAxyc27GXpf02   \n",
       "3  Taylor Swift                 93  spotify:artist:06HL4z0CvFAxyc27GXpf02   \n",
       "4  Taylor Swift                 93  spotify:artist:06HL4z0CvFAxyc27GXpf02   \n",
       "\n",
       "   followers_related                                     genres_related  \\\n",
       "0           23742682         [dance pop, pop, pop dance, post-teen pop]   \n",
       "1           13426581         [dance pop, pop, pop dance, post-teen pop]   \n",
       "2           18533992         [dance pop, pop, pop dance, post-teen pop]   \n",
       "3            9784381  [dance pop, hip pop, pop, pop dance, post-teen...   \n",
       "4           40210307                 [canadian pop, pop, post-teen pop]   \n",
       "\n",
       "               id_related    name_related  popularity_related  \\\n",
       "0  0C8ZW7ezQVs4URX5aX7Kqx    Selena Gomez                  86   \n",
       "1  5YGY8feqx7naU7z4HrwZM6     Miley Cyrus                  91   \n",
       "2  6S2OmqARrzebs0tKUEyXyp     Demi Lovato                  84   \n",
       "3  6JL8zeS1NmiOftqZTRgdTz  Meghan Trainor                  82   \n",
       "4  1uNFoZAHBGtllmzznpCI3s   Justin Bieber                  96   \n",
       "\n",
       "                             uri_related  \n",
       "0  spotify:artist:0C8ZW7ezQVs4URX5aX7Kqx  \n",
       "1  spotify:artist:5YGY8feqx7naU7z4HrwZM6  \n",
       "2  spotify:artist:6S2OmqARrzebs0tKUEyXyp  \n",
       "3  spotify:artist:6JL8zeS1NmiOftqZTRgdTz  \n",
       "4  spotify:artist:1uNFoZAHBGtllmzznpCI3s  "
      ]
     },
     "execution_count": 51,
     "metadata": {},
     "output_type": "execute_result"
    }
   ],
   "source": [
    "\n",
    "artists = artists[[ 'followers', 'genres','id','name','popularity','uri']]\n",
    "artists.to_csv('artist_data_final.csv')\n",
    "all_artist_data.head()"
   ]
  },
  {
   "cell_type": "code",
   "execution_count": 52,
   "metadata": {},
   "outputs": [
    {
     "name": "stdout",
     "output_type": "stream",
     "text": [
      "  followers                                             genres  \\\n",
      "0  23742682         [dance pop, pop, pop dance, post-teen pop]   \n",
      "1  13426581         [dance pop, pop, pop dance, post-teen pop]   \n",
      "2  18533992         [dance pop, pop, pop dance, post-teen pop]   \n",
      "3   9784381  [dance pop, hip pop, pop, pop dance, post-teen...   \n",
      "4  40210307                 [canadian pop, pop, post-teen pop]   \n",
      "\n",
      "                       id            name  popularity  \\\n",
      "0  0C8ZW7ezQVs4URX5aX7Kqx    Selena Gomez          86   \n",
      "1  5YGY8feqx7naU7z4HrwZM6     Miley Cyrus          91   \n",
      "2  6S2OmqARrzebs0tKUEyXyp     Demi Lovato          84   \n",
      "3  6JL8zeS1NmiOftqZTRgdTz  Meghan Trainor          82   \n",
      "4  1uNFoZAHBGtllmzznpCI3s   Justin Bieber          96   \n",
      "\n",
      "                                     uri  \n",
      "0  spotify:artist:0C8ZW7ezQVs4URX5aX7Kqx  \n",
      "1  spotify:artist:5YGY8feqx7naU7z4HrwZM6  \n",
      "2  spotify:artist:6S2OmqARrzebs0tKUEyXyp  \n",
      "3  spotify:artist:6JL8zeS1NmiOftqZTRgdTz  \n",
      "4  spotify:artist:1uNFoZAHBGtllmzznpCI3s  \n"
     ]
    }
   ],
   "source": [
    "relart  = relart[[ 'followers', 'genres','id','name','popularity','uri']]\n",
    "allart = relart.append(artists)\n",
    "allart = allart.drop_duplicates(subset = ['id'])\n",
    "\n",
    "\n",
    "print(allart.head())\n",
    "allart.columns = ['followers', 'genres','spotify id','Label','popularity','uri']\n",
    "strgnrs = ['_'.join(i) for i in allart['genres']]\n",
    "allart['strgnrs'] = strgnrs"
   ]
  },
  {
   "cell_type": "code",
   "execution_count": 53,
   "metadata": {},
   "outputs": [],
   "source": [
    "allart.to_csv('artists_nodes_gephi.csv', index = False)"
   ]
  },
  {
   "cell_type": "code",
   "execution_count": 54,
   "metadata": {},
   "outputs": [],
   "source": [
    "all_artist_data.columns = ['followers_source','genres_source','id_source','Source','popularity_source',\n",
    "                                  'uri_source','followers_related', 'genres_related','id_related', 'Target',\n",
    "                                   'popularity_related','uri_related']\n",
    "all_artist_data.to_csv('artists_edges_gephi.csv', index = False)"
   ]
  },
  {
   "cell_type": "markdown",
   "metadata": {},
   "source": [
    "Making Subset of the artist data that fall under some genre examples"
   ]
  },
  {
   "cell_type": "code",
   "execution_count": 55,
   "metadata": {},
   "outputs": [
    {
     "name": "stderr",
     "output_type": "stream",
     "text": [
      "<ipython-input-55-59f2cf041a0c>:8: SettingWithCopyWarning: \n",
      "A value is trying to be set on a copy of a slice from a DataFrame.\n",
      "Try using .loc[row_indexer,col_indexer] = value instead\n",
      "\n",
      "See the caveats in the documentation: https://pandas.pydata.org/pandas-docs/stable/user_guide/indexing.html#returning-a-view-versus-a-copy\n",
      "  edmnodes['Id'] = edmnodes['Label'].copy()\n"
     ]
    }
   ],
   "source": [
    "# Artists falling that were tagged With 'EDM' Genre would be included in this dataset\n",
    "directed_artist = all_artist_data.reset_index(drop = True)\n",
    "source_mask = directed_artist['genres_source'].apply(lambda x: 'edm' in x)\n",
    "edm = directed_artist.loc[source_mask]\n",
    "edm.to_csv('edm.csv',index = False)\n",
    "directed_artist = allart.reset_index(drop = True)\n",
    "source_mask = directed_artist['genres'].apply(lambda x: 'edm' in x)\n",
    "edmnodes = directed_artist.loc[source_mask]\n",
    "edmnodes['Id'] = edmnodes['Label'].copy()\n",
    "edmnodes.to_csv('edm_source_nodes.csv',index = False)"
   ]
  },
  {
   "cell_type": "code",
   "execution_count": 57,
   "metadata": {},
   "outputs": [
    {
     "name": "stderr",
     "output_type": "stream",
     "text": [
      "<ipython-input-57-730c3c18b098>:8: SettingWithCopyWarning: \n",
      "A value is trying to be set on a copy of a slice from a DataFrame.\n",
      "Try using .loc[row_indexer,col_indexer] = value instead\n",
      "\n",
      "See the caveats in the documentation: https://pandas.pydata.org/pandas-docs/stable/user_guide/indexing.html#returning-a-view-versus-a-copy\n",
      "  latinnodes['Id'] = latinnodes['Label'].copy()\n"
     ]
    }
   ],
   "source": [
    "# Artists falling that were tagged With 'Latin' Genre would be included in this dataset\n",
    "directed_artist = all_artist_data.reset_index(drop = True)\n",
    "source_mask = directed_artist['genres_source'].apply(lambda x: 'latin' in x)\n",
    "latin = directed_artist.loc[source_mask]\n",
    "latin.to_csv('latin.csv',index = False)\n",
    "directed_artist = allart.reset_index(drop = True)\n",
    "source_mask = directed_artist['genres'].apply(lambda x: 'latin' in x)\n",
    "latinnodes = directed_artist.loc[source_mask]\n",
    "latinnodes['Id'] = latinnodes['Label'].copy()\n",
    "latinnodes.to_csv('latin_source_nodes.csv',index = False)"
   ]
  },
  {
   "cell_type": "code",
   "execution_count": 58,
   "metadata": {},
   "outputs": [],
   "source": [
    "# Artists falling that were tagged With 'Tropical House' Genre would be included in this dataset\n",
    "directed_artist = all_artist_data.reset_index(drop = True)\n",
    "source_mask = directed_artist['genres_source'].apply(lambda x: 'tropical house' in x)\n",
    "tropic_house = directed_artist.loc[source_mask]\n",
    "tropic_house.to_csv('tropic_house.csv',index = False)\n",
    "directed_artist = allart.reset_index(drop = True)\n",
    "source_mask = directed_artist['genres'].apply(lambda x: 'tropic house' in x)\n",
    "tropic_housenodes = directed_artist.loc[source_mask]\n",
    "tropic_housenodes['Id'] = tropic_housenodes['Label'].copy()\n",
    "tropic_housenodes.to_csv('tropic_house_source_nodes.csv',index = False)"
   ]
  },
  {
   "cell_type": "code",
   "execution_count": 59,
   "metadata": {},
   "outputs": [
    {
     "name": "stderr",
     "output_type": "stream",
     "text": [
      "<ipython-input-59-ea405b3cc82f>:8: SettingWithCopyWarning: \n",
      "A value is trying to be set on a copy of a slice from a DataFrame.\n",
      "Try using .loc[row_indexer,col_indexer] = value instead\n",
      "\n",
      "See the caveats in the documentation: https://pandas.pydata.org/pandas-docs/stable/user_guide/indexing.html#returning-a-view-versus-a-copy\n",
      "  bachatanodes['Id'] = bachatanodes['Label'].copy()\n"
     ]
    }
   ],
   "source": [
    "# Artists falling that were tagged With 'Bachata' Genre would be included in this dataset\n",
    "directed_artist = all_artist_data.reset_index(drop = True)\n",
    "source_mask = directed_artist['genres_source'].apply(lambda x: 'bachata' in x)\n",
    "bachata = directed_artist.loc[source_mask]\n",
    "bachata.to_csv('bachata.csv',index = False)\n",
    "directed_artist = allart.reset_index(drop = True)\n",
    "source_mask = directed_artist['genres'].apply(lambda x: 'bachata' in x)\n",
    "bachatanodes = directed_artist.loc[source_mask]\n",
    "bachatanodes['Id'] = bachatanodes['Label'].copy()\n",
    "bachatanodes.to_csv('bachata_source_nodes.csv',index = False)"
   ]
  },
  {
   "cell_type": "code",
   "execution_count": 60,
   "metadata": {},
   "outputs": [
    {
     "name": "stderr",
     "output_type": "stream",
     "text": [
      "<ipython-input-60-d37d87667245>:8: SettingWithCopyWarning: \n",
      "A value is trying to be set on a copy of a slice from a DataFrame.\n",
      "Try using .loc[row_indexer,col_indexer] = value instead\n",
      "\n",
      "See the caveats in the documentation: https://pandas.pydata.org/pandas-docs/stable/user_guide/indexing.html#returning-a-view-versus-a-copy\n",
      "  german_hiphopnodes['Id'] = german_hiphopnodes['Label'].copy()\n"
     ]
    }
   ],
   "source": [
    "# Artists falling that were tagged With 'German HipHop' Genre would be included in this dataset\n",
    "directed_artist = all_artist_data.reset_index(drop = True)\n",
    "source_mask = directed_artist['genres_source'].apply(lambda x: 'german hip hop' in x)\n",
    "german_hiphop = directed_artist.loc[source_mask]\n",
    "german_hiphop.to_csv('german_hiphop.csv',index = False)\n",
    "directed_artist = allart.reset_index(drop = True)\n",
    "source_mask = directed_artist['genres'].apply(lambda x: 'german hip hop' in x)\n",
    "german_hiphopnodes = directed_artist.loc[source_mask]\n",
    "german_hiphopnodes['Id'] = german_hiphopnodes['Label'].copy()\n",
    "german_hiphopnodes.to_csv('german_hiphop_source_nodes.csv',index = False)"
   ]
  },
  {
   "cell_type": "code",
   "execution_count": 61,
   "metadata": {},
   "outputs": [
    {
     "name": "stderr",
     "output_type": "stream",
     "text": [
      "<ipython-input-61-879e3f03a37f>:8: SettingWithCopyWarning: \n",
      "A value is trying to be set on a copy of a slice from a DataFrame.\n",
      "Try using .loc[row_indexer,col_indexer] = value instead\n",
      "\n",
      "See the caveats in the documentation: https://pandas.pydata.org/pandas-docs/stable/user_guide/indexing.html#returning-a-view-versus-a-copy\n",
      "  hiphopnodes['Id'] = hiphopnodes['Label'].copy()\n"
     ]
    }
   ],
   "source": [
    "# Artists falling that were tagged With 'HipHop' Genre would be included in this dataset\n",
    "directed_artist = all_artist_data.reset_index(drop = True)\n",
    "source_mask = directed_artist['genres_source'].apply(lambda x: 'hip hop' in x)\n",
    "hiphop = directed_artist.loc[source_mask]\n",
    "hiphop.to_csv('hiphop.csv',index = False)\n",
    "directed_artist = allart.reset_index(drop = True)\n",
    "source_mask = directed_artist['genres'].apply(lambda x: 'hip hop' in x)\n",
    "hiphopnodes = directed_artist.loc[source_mask]\n",
    "hiphopnodes['Id'] = hiphopnodes['Label'].copy()\n",
    "hiphopnodes.to_csv('hiphop_source_nodes.csv',index = False)"
   ]
  }
 ],
 "metadata": {
  "kernelspec": {
   "display_name": "Python 3",
   "language": "python",
   "name": "python3"
  },
  "language_info": {
   "codemirror_mode": {
    "name": "ipython",
    "version": 3
   },
   "file_extension": ".py",
   "mimetype": "text/x-python",
   "name": "python",
   "nbconvert_exporter": "python",
   "pygments_lexer": "ipython3",
   "version": "3.8.3"
  }
 },
 "nbformat": 4,
 "nbformat_minor": 4
}
