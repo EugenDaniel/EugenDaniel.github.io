{
 "cells": [
  {
   "cell_type": "code",
   "execution_count": 0,
   "metadata": {},
   "outputs": [],
   "source": [
    "# -*- coding: utf-8 -*-\n",
    "import dataiku\n",
    "import pandas as pd, numpy as np\n",
    "from dataiku import pandasutils as pdu\n",
    "\n",
    "# Read recipe inputs\n",
    "madrid_Rental_Dataset_ALLDATA_prepared = dataiku.Dataset(\"Madrid_Rental_Dataset_ALLDATA_prepared\")\n",
    "madrid_Rental_Dataset_ALLDATA_prepared_df = madrid_Rental_Dataset_ALLDATA_prepared.get_dataframe()\n",
    "\n",
    "\n",
    "# Compute recipe outputs from inputs\n",
    "# TODO: Replace this part by your actual code that computes the output, as a Pandas dataframe\n",
    "# NB: DSS also supports other kinds of APIs for reading and writing data. Please see doc.\n",
    "\n",
    "madrid_Rental_Dataset_df = madrid_Rental_Dataset_ALLDATA_prepared_df # For this sample code, simply copy input to output\n",
    "\n",
    "\n",
    "# Write recipe outputs\n",
    "madrid_Rental_Dataset = dataiku.Dataset(\"Madrid_Rental_Dataset\")\n",
    "madrid_Rental_Dataset.write_with_schema(madrid_Rental_Dataset_df)"
   ]
  }
 ],
 "metadata": {
  "associatedRecipe": "compute_Madrid_Rental_Dataset",
  "creator": "admin",
  "customFields": {},
  "kernelspec": {
   "display_name": "Python 2",
   "language": "python",
   "name": "python2"
  },
  "language_info": {
   "codemirror_mode": {
    "name": "ipython",
    "version": 2
   },
   "file_extension": ".py",
   "mimetype": "text/x-python",
   "name": "python",
   "nbconvert_exporter": "python",
   "pygments_lexer": "ipython2",
   "version": "2.7.5"
  },
  "tags": [
   "recipe-editor"
  ]
 },
 "nbformat": 4,
 "nbformat_minor": 1
}
