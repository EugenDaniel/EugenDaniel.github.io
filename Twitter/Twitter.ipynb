{
 "cells": [
  {
   "cell_type": "markdown",
   "metadata": {},
   "source": [
    "# <u>Deloitte Case Study</u>"
   ]
  },
  {
   "cell_type": "code",
   "execution_count": 1,
   "metadata": {
    "ExecuteTime": {
     "end_time": "2021-05-10T07:06:09.298859Z",
     "start_time": "2021-05-10T07:06:00.817735Z"
    }
   },
   "outputs": [],
   "source": [
    "# Loading of the necessary packages and libraries\n",
    "import findspark\n",
    "findspark.init()\n",
    "\n",
    "from pyspark.context import SparkContext\n",
    "from pyspark.sql.session import SparkSession\n",
    "\n",
    "import pandas as pd\n",
    "\n",
    "sc = SparkContext.getOrCreate()\n",
    "spark = SparkSession(sc)"
   ]
  },
  {
   "cell_type": "code",
   "execution_count": 2,
   "metadata": {
    "ExecuteTime": {
     "end_time": "2021-05-10T07:10:18.060432Z",
     "start_time": "2021-05-10T07:06:09.301010Z"
    }
   },
   "outputs": [],
   "source": [
    "# Reading the data with spark and limiting to 10M rows\n",
    "twitterDF = spark.read \\\n",
    "                 .option(\"inferSchema\", \"true\") \\\n",
    "                 .csv(\"twitter_rv.net\", sep=r'\\t') \\\n",
    "                 .limit(10000000) # If the whole data should be processed then we leave this out"
   ]
  },
  {
   "cell_type": "code",
   "execution_count": 3,
   "metadata": {
    "ExecuteTime": {
     "end_time": "2021-05-10T07:14:58.982366Z",
     "start_time": "2021-05-10T07:10:18.062546Z"
    }
   },
   "outputs": [
    {
     "name": "stdout",
     "output_type": "stream",
     "text": [
      "+---+---+\n",
      "|_c0|_c1|\n",
      "+---+---+\n",
      "| 12| 13|\n",
      "| 12| 14|\n",
      "| 12| 15|\n",
      "| 12| 16|\n",
      "| 12| 17|\n",
      "+---+---+\n",
      "only showing top 5 rows\n",
      "\n"
     ]
    }
   ],
   "source": [
    "# Displaying the data to see if it was right loaded\n",
    "twitterDF.show(5)"
   ]
  },
  {
   "cell_type": "code",
   "execution_count": 4,
   "metadata": {
    "ExecuteTime": {
     "end_time": "2021-05-10T07:14:59.186402Z",
     "start_time": "2021-05-10T07:14:58.986536Z"
    }
   },
   "outputs": [],
   "source": [
    "# Changing the name of the columns\n",
    "twitterDF = twitterDF.selectExpr(\"_c0 as UserID\", \"_c1 as FollowerID\")"
   ]
  },
  {
   "cell_type": "code",
   "execution_count": 5,
   "metadata": {
    "ExecuteTime": {
     "end_time": "2021-05-10T07:14:59.201272Z",
     "start_time": "2021-05-10T07:14:59.190248Z"
    }
   },
   "outputs": [
    {
     "name": "stdout",
     "output_type": "stream",
     "text": [
      "root\n",
      " |-- UserID: integer (nullable = true)\n",
      " |-- FollowerID: integer (nullable = true)\n",
      "\n"
     ]
    }
   ],
   "source": [
    "# Cheching if schema was changed in a right way\n",
    "twitterDF.printSchema()"
   ]
  },
  {
   "cell_type": "code",
   "execution_count": 6,
   "metadata": {
    "ExecuteTime": {
     "end_time": "2021-05-10T07:14:59.208305Z",
     "start_time": "2021-05-10T07:14:59.205094Z"
    }
   },
   "outputs": [],
   "source": [
    "#!pip install graphframes"
   ]
  },
  {
   "cell_type": "code",
   "execution_count": 7,
   "metadata": {
    "ExecuteTime": {
     "end_time": "2021-05-10T07:14:59.267214Z",
     "start_time": "2021-05-10T07:14:59.211958Z"
    }
   },
   "outputs": [],
   "source": [
    "# Importing necessary libraries\n",
    "from functools import reduce\n",
    "from pyspark.sql.functions import when, count, col, countDistinct, desc, first, lit, array"
   ]
  },
  {
   "cell_type": "code",
   "execution_count": 8,
   "metadata": {
    "ExecuteTime": {
     "end_time": "2021-05-10T07:14:59.350852Z",
     "start_time": "2021-05-10T07:14:59.275840Z"
    }
   },
   "outputs": [],
   "source": [
    "# Creation of the vertices\n",
    "followers = twitterDF.select(\"FollowerID\").distinct()\n",
    "users = twitterDF.select(\"UserID\").distinct()\n",
    "vertices = users.union(followers).distinct()"
   ]
  },
  {
   "cell_type": "code",
   "execution_count": 9,
   "metadata": {
    "ExecuteTime": {
     "end_time": "2021-05-10T07:14:59.535291Z",
     "start_time": "2021-05-10T07:14:59.355708Z"
    }
   },
   "outputs": [
    {
     "data": {
      "text/plain": [
       "DataFrame[Edge: array<int>]"
      ]
     },
     "execution_count": 9,
     "metadata": {},
     "output_type": "execute_result"
    }
   ],
   "source": [
    "# Creation of the edges\n",
    "edges = twitterDF.withColumn(\"Edge\", array(col(\"UserID\"),col(\"FollowerID\"))).select(\"Edge\")\n",
    "edges.cache()"
   ]
  },
  {
   "cell_type": "code",
   "execution_count": 10,
   "metadata": {
    "ExecuteTime": {
     "end_time": "2021-05-10T07:14:59.541295Z",
     "start_time": "2021-05-10T07:14:59.538383Z"
    }
   },
   "outputs": [],
   "source": [
    "# Exporting the data for further analysis\n",
    "#twitterDF.toPandas().to_csv('twitter_10M.csv',index=False)"
   ]
  },
  {
   "cell_type": "code",
   "execution_count": 11,
   "metadata": {
    "ExecuteTime": {
     "end_time": "2021-05-10T07:20:21.157097Z",
     "start_time": "2021-05-10T07:14:59.547046Z"
    }
   },
   "outputs": [
    {
     "name": "stdout",
     "output_type": "stream",
     "text": [
      "+--------+---------+\n",
      "|      ID|Followers|\n",
      "+--------+---------+\n",
      "|10316422|     2583|\n",
      "|14206126|      940|\n",
      "|12750862|      914|\n",
      "+--------+---------+\n",
      "only showing top 3 rows\n",
      "\n"
     ]
    }
   ],
   "source": [
    "# Finding the accounts that are most followed\n",
    "twitterDF.cache()\n",
    "twitterDF.select(col('FollowerID').alias('ID')).groupBy('ID').agg(count('ID').alias('Followers')).orderBy(desc('Followers')).show(3)"
   ]
  },
  {
   "cell_type": "code",
   "execution_count": 20,
   "metadata": {
    "ExecuteTime": {
     "end_time": "2021-05-10T07:26:50.318136Z",
     "start_time": "2021-05-10T07:26:49.968943Z"
    }
   },
   "outputs": [
    {
     "name": "stdout",
     "output_type": "stream",
     "text": [
      "+-----+---------+\n",
      "|   ID|Followers|\n",
      "+-----+---------+\n",
      "|   20|  1213787|\n",
      "|   13|  1031830|\n",
      "|10350|  1003728|\n",
      "+-----+---------+\n",
      "only showing top 3 rows\n",
      "\n"
     ]
    }
   ],
   "source": [
    "# Finding the account that follows the most accounts\n",
    "twitterDF.cache()\n",
    "twitterDF.select(col('UserID').alias('ID')).groupBy('ID').agg(count('ID').alias('Followers')).orderBy(desc('Followers')).show(3)"
   ]
  },
  {
   "cell_type": "code",
   "execution_count": 12,
   "metadata": {
    "ExecuteTime": {
     "end_time": "2021-05-10T07:20:21.163437Z",
     "start_time": "2021-05-10T07:20:21.159470Z"
    }
   },
   "outputs": [
    {
     "data": {
      "text/plain": [
       "['UserID', 'FollowerID']"
      ]
     },
     "execution_count": 12,
     "metadata": {},
     "output_type": "execute_result"
    }
   ],
   "source": [
    "twitterDF.columns"
   ]
  },
  {
   "cell_type": "code",
   "execution_count": 13,
   "metadata": {
    "ExecuteTime": {
     "end_time": "2021-05-10T07:25:08.608933Z",
     "start_time": "2021-05-10T07:20:21.165523Z"
    }
   },
   "outputs": [
    {
     "name": "stdout",
     "output_type": "stream",
     "text": [
      "+--------+\n",
      "|    Edge|\n",
      "+--------+\n",
      "|[12, 13]|\n",
      "|[12, 14]|\n",
      "|[12, 15]|\n",
      "|[12, 16]|\n",
      "|[12, 17]|\n",
      "+--------+\n",
      "only showing top 5 rows\n",
      "\n"
     ]
    }
   ],
   "source": [
    "edges.show(5)"
   ]
  },
  {
   "cell_type": "code",
   "execution_count": 14,
   "metadata": {
    "ExecuteTime": {
     "end_time": "2021-05-10T07:25:08.614845Z",
     "start_time": "2021-05-10T07:25:08.612114Z"
    }
   },
   "outputs": [],
   "source": [
    "#connections = twitterDF.rdd.map(lambda row : (row[0],row[1]))\n",
    "#connections.lookup(12)"
   ]
  },
  {
   "cell_type": "code",
   "execution_count": 15,
   "metadata": {
    "ExecuteTime": {
     "end_time": "2021-05-10T07:25:08.620556Z",
     "start_time": "2021-05-10T07:25:08.617897Z"
    }
   },
   "outputs": [],
   "source": [
    "#from collections import defaultdict\n",
    "#G = defaultdict(list)\n",
    "#for s in edges:\n",
    "#    G[s[0]].append(s[1])"
   ]
  },
  {
   "cell_type": "code",
   "execution_count": 16,
   "metadata": {
    "ExecuteTime": {
     "end_time": "2021-05-10T07:25:08.625883Z",
     "start_time": "2021-05-10T07:25:08.622985Z"
    }
   },
   "outputs": [],
   "source": [
    "# Creation of a function to iterate over the values\n",
    "#def DFS(G,v,seen=None,path=None):\n",
    "#    if seen is None: seen = []\n",
    "#    if path is None: path = [v]\n",
    "\n",
    "#    seen.append(v)\n",
    "#    paths = []\n",
    "#    for t in G.lookup(v):\n",
    "#        if t not in seen:\n",
    "#            t_path = path + [t]\n",
    "#            paths.append(tuple(t_path))\n",
    "#            paths.extend(DFS(G, t, seen[:], t_path))\n",
    "#    return paths"
   ]
  },
  {
   "cell_type": "code",
   "execution_count": 17,
   "metadata": {
    "ExecuteTime": {
     "end_time": "2021-05-10T07:25:08.631858Z",
     "start_time": "2021-05-10T07:25:08.629228Z"
    }
   },
   "outputs": [],
   "source": [
    "#all_paths = DFS(connections, 20)\n",
    "#print(all_paths)"
   ]
  },
  {
   "cell_type": "code",
   "execution_count": 18,
   "metadata": {
    "ExecuteTime": {
     "end_time": "2021-05-10T07:25:08.637396Z",
     "start_time": "2021-05-10T07:25:08.635099Z"
    }
   },
   "outputs": [],
   "source": [
    "# Longest circles in the graph\n",
    "#def dfs(graph, start, end):\n",
    "#    fringe = [(start, [])]\n",
    "#    while fringe:\n",
    "#        state, path = fringe.pop()\n",
    "#        if path and state == end:\n",
    "#            yield path\n",
    "#            continue\n",
    "#        for next_state in graph[state]:\n",
    "#            if next_state in path:\n",
    "#                continue\n",
    "#            fringe.append((next_state, path+[next_state]))\n",
    "            \n",
    "#cycles = [[node]+path  for node in graph for path in dfs(graph, node, node)]"
   ]
  }
 ],
 "metadata": {
  "kernelspec": {
   "display_name": "Python 3",
   "language": "python",
   "name": "python3"
  },
  "language_info": {
   "codemirror_mode": {
    "name": "ipython",
    "version": 3
   },
   "file_extension": ".py",
   "mimetype": "text/x-python",
   "name": "python",
   "nbconvert_exporter": "python",
   "pygments_lexer": "ipython3",
   "version": "3.7.9"
  },
  "toc": {
   "base_numbering": 1,
   "nav_menu": {},
   "number_sections": true,
   "sideBar": true,
   "skip_h1_title": false,
   "title_cell": "Table of Contents",
   "title_sidebar": "Contents",
   "toc_cell": false,
   "toc_position": {},
   "toc_section_display": true,
   "toc_window_display": false
  }
 },
 "nbformat": 4,
 "nbformat_minor": 4
}
