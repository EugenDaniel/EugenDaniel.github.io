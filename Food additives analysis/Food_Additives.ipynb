{
 "cells": [
  {
   "cell_type": "markdown",
   "metadata": {},
   "source": [
    "# <ins>Group project Spark Team D</ins>"
   ]
  },
  {
   "cell_type": "markdown",
   "metadata": {},
   "source": [
    "ACME corporation is trying to understand\n",
    "eating habits in different european countries\n",
    "and, given that they don’t have any team able\n",
    "to do data analysis, they are asking professor\n",
    "Raúl Marín for help an he reaches out to his best team available."
   ]
  },
  {
   "cell_type": "markdown",
   "metadata": {},
   "source": [
    "## <ins> Introduction</ins>"
   ]
  },
  {
   "cell_type": "markdown",
   "metadata": {},
   "source": [
    "For the analysis we will focus on the following field of interest\n",
    "\n",
    "- Creator \n",
    "- Created_datetime\n",
    "- Last_modified_datetime\n",
    "- Product_name\n",
    "- Countries_en\n",
    "- Traces_en\n",
    "- Additives_tags\n",
    "- Main_category_en\n",
    "- Image_url\n",
    "- Quantity\n",
    "- Packaging_tags\n",
    "- Categories_en\n",
    "- Ingredients_text\n",
    "- Additives_en\n",
    "- Energy-kcal_100g\n",
    "- Fat_100g \n",
    "- Saturated-fat_100g\n",
    "- Sugars_100g\n",
    "- Salt_100g\n",
    "- Sodium_100g\n",
    "\n",
    "Also the data was beforehand cleaned in Dataiku to work appropriately with it."
   ]
  },
  {
   "cell_type": "markdown",
   "metadata": {},
   "source": [
    "## <ins> Initialization of the spark session</ins>"
   ]
  },
  {
   "cell_type": "code",
   "execution_count": 2,
   "metadata": {},
   "outputs": [],
   "source": [
    "# Initialization of spark session and context\n",
    "import findspark\n",
    "findspark.init()\n",
    "\n",
    "from pyspark.context import SparkContext\n",
    "from pyspark.sql.session import SparkSession\n",
    "\n",
    "sc = SparkContext.getOrCreate()\n",
    "spark = SparkSession(sc)"
   ]
  },
  {
   "cell_type": "markdown",
   "metadata": {},
   "source": [
    "## <ins>Data source and Spark data abstraction (DataFrame) setup</ins>"
   ]
  },
  {
   "cell_type": "code",
   "execution_count": 13,
   "metadata": {},
   "outputs": [],
   "source": [
    "# Reading of the data\n",
    "ACME_DF = spark.read \\\n",
    "                 .option(\"inferSchema\", \"true\") \\\n",
    "                 .option(\"header\", \"true\") \\\n",
    "                 .option('multiline','true') \\\n",
    "                 .csv(\"Spark_data_cleaning_prepared_v3.csv\")\n",
    "\n",
    "# Selecting the columns of interest\n",
    "ACME_selection_DF = ACME_DF.select(\"code\",\"creator\", \"created_datetime\", \"last_modified_datetime\", \"product_name\", \"countries_en\", \"traces_en\", \"additives_tags\", \"main_category_en\", \"image_url\", \"quantity\", \"packaging_tags\", \"categories_en\", \"ingredients_text\", \"additives_en\", \"energy-kcal_100g\", \"fat_100g\", \"saturated-fat_100g\",\"sugars_100g\", \"salt_100g\", \"sodium_100g\")"
   ]
  },
  {
   "cell_type": "markdown",
   "metadata": {},
   "source": [
    "## <ins>Data set metadata analysis</ins>\n",
    "### <ins>Display schema and size of the DataFrame</ins>"
   ]
  },
  {
   "cell_type": "code",
   "execution_count": 10,
   "metadata": {},
   "outputs": [
    {
     "name": "stdout",
     "output_type": "stream",
     "text": [
      "root\n",
      " |-- code: double (nullable = true)\n",
      " |-- creator: string (nullable = true)\n",
      " |-- created_datetime: timestamp (nullable = true)\n",
      " |-- last_modified_datetime: timestamp (nullable = true)\n",
      " |-- product_name: string (nullable = true)\n",
      " |-- countries_en: string (nullable = true)\n",
      " |-- traces_en: string (nullable = true)\n",
      " |-- additives_tags: string (nullable = true)\n",
      " |-- main_category_en: string (nullable = true)\n",
      " |-- image_url: string (nullable = true)\n",
      " |-- quantity: string (nullable = true)\n",
      " |-- packaging_tags: string (nullable = true)\n",
      " |-- categories_en: string (nullable = true)\n",
      " |-- ingredients_text: string (nullable = true)\n",
      " |-- additives_en: string (nullable = true)\n",
      " |-- energy-kcal_100g: string (nullable = true)\n",
      " |-- fat_100g: string (nullable = true)\n",
      " |-- saturated-fat_100g: double (nullable = true)\n",
      " |-- sugars_100g: string (nullable = true)\n",
      " |-- salt_100g: string (nullable = true)\n",
      " |-- sodium_100g: string (nullable = true)\n",
      "\n"
     ]
    },
    {
     "data": {
      "text/markdown": [
       "This DataFrame has **177629 rows**."
      ],
      "text/plain": [
       "<IPython.core.display.Markdown object>"
      ]
     },
     "metadata": {},
     "output_type": "display_data"
    }
   ],
   "source": [
    "from IPython.display import display, Markdown\n",
    "\n",
    "ACME_selection_DF.printSchema()\n",
    "display(Markdown(\"This DataFrame has **%d rows**.\" % ACME_selection_DF.count()))"
   ]
  },
  {
   "cell_type": "markdown",
   "metadata": {},
   "source": [
    "### <ins>Getting one or multiple random samples from the data set</ins>"
   ]
  },
  {
   "cell_type": "code",
   "execution_count": 51,
   "metadata": {},
   "outputs": [
    {
     "data": {
      "text/plain": [
       "[Row(code=1694.0, creator='kiliweb', created_datetime=datetime.datetime(2020, 1, 3, 21, 42, 43), last_modified_datetime=datetime.datetime(2020, 1, 3, 21, 42, 45), product_name='butifarra blanca', countries_en='spain', traces_en=None, additives_tags=None, main_category_en=None, image_url='https://static.openfoodfacts.org/images/products/00001694/front_es.3.400.jpg', quantity=None, packaging_tags=None, categories_en=None, ingredients_text=None, additives_en=None, energy-kcal_100g='241.0', fat_100g='20.0', saturated-fat_100g=6.8, sugars_100g='0.0', salt_100g='1.75', sodium_100g='0.7'),\n",
       " Row(code=4.0, creator='elcoco', created_datetime=datetime.datetime(2019, 6, 10, 16, 20, 26), last_modified_datetime=datetime.datetime(2020, 8, 19, 11, 40, 9), product_name=None, countries_en='spain', traces_en=None, additives_tags=None, main_category_en='dietary supplements', image_url='https://static.openfoodfacts.org/images/products/00004/front_es.3.400.jpg', quantity=None, packaging_tags=None, categories_en='dietary supplements', ingredients_text=None, additives_en=None, energy-kcal_100g=None, fat_100g=None, saturated-fat_100g=None, sugars_100g=None, salt_100g=None, sodium_100g=None)]"
      ]
     },
     "execution_count": 51,
     "metadata": {},
     "output_type": "execute_result"
    }
   ],
   "source": [
    "ACME_selection_DF.cache() # optimization to make the processing faster\n",
    "ACME_selection_DF.sample(False, 0.1).take(2)"
   ]
  },
  {
   "cell_type": "markdown",
   "metadata": {},
   "source": [
    "### <ins>Data entities, metrics and dimensions</ins>\n",
    "\n",
    "We've identified the following elements:\n",
    "\n",
    "* **Entities:** Products (main one which is measured - facts), Contributors (dimension), Countries (dimension), Quantity (dimension) and Packaging type (dimension)\n",
    "* **Metrics:** created_datetime, last_modified_datetime, quantity, energy-kcal_100g, fat_100g, saturated_fat_100g, sugars_100g, salt_100g and sodium_100g\n",
    "* **Dimensions:** creator, product_name, countries_en, traces_en, additives_tags, main_categroy_en, image_url, packaging_tags, categories_en, ingredients_en and additives_en, code\n",
    "\n",
    "### <ins>Column categorization</ins>\n",
    "\n",
    "The following could be a potential column categorization:\n",
    "\n",
    "* **Timing related columns:** *created_datetime* and *last_modified_datetime*\n",
    "* **Product related columns:** *creator*, *product_name*, *countries_en*, *traces_en*, *additives_tags*, *main_category_en*, *image_url*, *packaging_tags* and *categories_en*,\n",
    "* **Ingredients composition related columns:** *quantity*, *energy-kcal_100g*, *fat_100g*, *saturated_fat_100g*, *sugars_100g*, *salt_100g*, *sodium_100g*, *additives_tags*, *ingredients_text* and *additives_en*"
   ]
  },
  {
   "cell_type": "markdown",
   "metadata": {},
   "source": [
    "## <ins>Columns groups basic profiling to better understand our data set</ins>\n",
    "### <ins>Timing related columns basic profiling and questions</ins>"
   ]
  },
  {
   "cell_type": "code",
   "execution_count": 64,
   "metadata": {},
   "outputs": [
    {
     "data": {
      "text/markdown": [
       "**Summary of time related columns**:"
      ],
      "text/plain": [
       "<IPython.core.display.Markdown object>"
      ]
     },
     "metadata": {},
     "output_type": "display_data"
    },
    {
     "name": "stdout",
     "output_type": "stream",
     "text": [
      "+-------+------------------+-------------------+\n",
      "|summary|      year_created| year_last_modified|\n",
      "+-------+------------------+-------------------+\n",
      "|  count|            177629|             177629|\n",
      "|   mean| 2019.058492701079| 2019.6823942036492|\n",
      "| stddev|1.0833854714449735|0.47553679724179587|\n",
      "|    min|              2012|               2013|\n",
      "|    25%|              2019|               2019|\n",
      "|    50%|              2019|               2020|\n",
      "|    75%|              2020|               2020|\n",
      "|    max|              2020|               2020|\n",
      "+-------+------------------+-------------------+\n",
      "\n"
     ]
    },
    {
     "data": {
      "text/markdown": [
       "**Checking amount of distinct values in column created_datetime**:"
      ],
      "text/plain": [
       "<IPython.core.display.Markdown object>"
      ]
     },
     "metadata": {},
     "output_type": "display_data"
    },
    {
     "data": {
      "text/markdown": [
       "\n",
       "| year | month | day | hour |\n",
       "|----|----|----|----|\n",
       "| 9  occurrences | 12  occurrences | 31  occurrences | 24  occurrences |\n"
      ],
      "text/plain": [
       "<IPython.core.display.Markdown object>"
      ]
     },
     "metadata": {},
     "output_type": "display_data"
    },
    {
     "data": {
      "text/markdown": [
       "**Checking amount of distinct values in column last_modified_datetime**:"
      ],
      "text/plain": [
       "<IPython.core.display.Markdown object>"
      ]
     },
     "metadata": {},
     "output_type": "display_data"
    },
    {
     "data": {
      "text/markdown": [
       "\n",
       "| year | month | day | hour |\n",
       "|----|----|----|----|\n",
       "| 8  occurrences | 12  occurrences | 31  occurrences | 24  occurrences |\n"
      ],
      "text/plain": [
       "<IPython.core.display.Markdown object>"
      ]
     },
     "metadata": {},
     "output_type": "display_data"
    },
    {
     "data": {
      "text/markdown": [
       "**Checking null values**:"
      ],
      "text/plain": [
       "<IPython.core.display.Markdown object>"
      ]
     },
     "metadata": {},
     "output_type": "display_data"
    },
    {
     "name": "stdout",
     "output_type": "stream",
     "text": [
      "+-------------------+\n",
      "|null_values_created|\n",
      "+-------------------+\n",
      "|                  0|\n",
      "+-------------------+\n",
      "\n",
      "+--------------------+\n",
      "|null_values_modified|\n",
      "+--------------------+\n",
      "|                   0|\n",
      "+--------------------+\n",
      "\n"
     ]
    }
   ],
   "source": [
    "from IPython.display import display, Markdown\n",
    "from pyspark.sql.functions import when, count, col, countDistinct, desc, first, lit, year, month, dayofmonth, hour, date_format, minute, current_timestamp\n",
    "from pyspark.mllib.linalg import SparseVector\n",
    "\n",
    "display(Markdown(\"**Summary of time related columns**:\"))\n",
    "ACME_selection_DF.select(year(col('created_datetime')).alias('year_created'),year(col('last_modified_datetime')).alias('year_last_modified')).summary().show()\n",
    "\n",
    "# Different DF used for the analysis\n",
    "year_c = ACME_selection_DF.select(year(col('created_datetime'))).distinct().count()\n",
    "month_c = ACME_selection_DF.select(month(col('created_datetime'))).distinct().count()\n",
    "day_c = ACME_selection_DF.select(dayofmonth(col('created_datetime'))).distinct().count()\n",
    "hour_c = ACME_selection_DF.select(hour(col('created_datetime'))).distinct().count()\n",
    "\n",
    "# Table for the representation of the data\n",
    "display(Markdown(\"**Checking amount of distinct values in column created_datetime**:\"))\n",
    "\n",
    "display(Markdown(\"\"\"\n",
    "| %s | %s | %s | %s |\n",
    "|----|----|----|----|\n",
    "| %s | %s | %s | %s |\n",
    "\"\"\" % (\"year\", \"month\", \"day\", \"hour\", \\\n",
    "       \"%d  occurrences\" % year_c,\\\n",
    "       \"%d  occurrences\" % month_c,\\\n",
    "       \"%d  occurrences\" % day_c,\\\n",
    "       \"%d  occurrences\" % hour_c)))\n",
    "\n",
    "year_m = ACME_selection_DF.select(year(col('last_modified_datetime'))).distinct().count()\n",
    "month_m = ACME_selection_DF.select(month(col('last_modified_datetime'))).distinct().count()\n",
    "day_m = ACME_selection_DF.select(dayofmonth(col('last_modified_datetime'))).distinct().count()\n",
    "hour_m = ACME_selection_DF.select(hour(col('last_modified_datetime'))).distinct().count()\n",
    "\n",
    "\n",
    "display(Markdown(\"**Checking amount of distinct values in column last_modified_datetime**:\"))\n",
    "\n",
    "display(Markdown(\"\"\"\n",
    "| %s | %s | %s | %s |\n",
    "|----|----|----|----|\n",
    "| %s | %s | %s | %s |\n",
    "\"\"\" % (\"year\", \"month\", \"day\", \"hour\", \\\n",
    "       \"%d  occurrences\" % year_m,\\\n",
    "       \"%d  occurrences\" % month_m,\\\n",
    "       \"%d  occurrences\" % day_m,\\\n",
    "       \"%d  occurrences\" % hour_m)))\n",
    "\n",
    "display(Markdown(\"**Checking null values**:\"))\n",
    "\n",
    "ACME_selection_DF.select(count(when(col('created_datetime').isNull(), 1)).alias('null_values_created')).show()\n",
    "ACME_selection_DF.select(count(when(col('last_modified_datetime').isNull(), 1)).alias('null_values_modified')).show()"
   ]
  },
  {
   "cell_type": "markdown",
   "metadata": {},
   "source": [
    "We are finding the newest and oldest product over all the listed products found"
   ]
  },
  {
   "cell_type": "code",
   "execution_count": 62,
   "metadata": {},
   "outputs": [
    {
     "data": {
      "text/markdown": [
       "**The oldest product in the sortiment**:"
      ],
      "text/plain": [
       "<IPython.core.display.Markdown object>"
      ]
     },
     "metadata": {},
     "output_type": "display_data"
    },
    {
     "name": "stdout",
     "output_type": "stream",
     "text": [
      "+-------------------+-----------------+----------------------+\n",
      "|created_datetime   |code             |product_name          |\n",
      "+-------------------+-----------------+----------------------+\n",
      "|2012-03-20 16:34:12|8.712566246465E12|moutarde fine de dijon|\n",
      "+-------------------+-----------------+----------------------+\n",
      "only showing top 1 row\n",
      "\n"
     ]
    },
    {
     "data": {
      "text/markdown": [
       "**The newest product in the sortiment**:"
      ],
      "text/plain": [
       "<IPython.core.display.Markdown object>"
      ]
     },
     "metadata": {},
     "output_type": "display_data"
    },
    {
     "name": "stdout",
     "output_type": "stream",
     "text": [
      "+-------------------+-----------------+----------------------------------+\n",
      "|created_datetime   |code             |product_name                      |\n",
      "+-------------------+-----------------+----------------------------------+\n",
      "|2020-09-13 02:49:51|8.412540019282E12|palometa austral ahumada en aceite|\n",
      "+-------------------+-----------------+----------------------------------+\n",
      "only showing top 1 row\n",
      "\n"
     ]
    }
   ],
   "source": [
    "# Oldest product\n",
    "display(Markdown(\"**The oldest product in the sortiment**:\"))\n",
    "ACME_selection_DF.select('created_datetime','code','product_name').orderBy(col('created_datetime').asc()).show(1,False)\n",
    "\n",
    "# Newest product\n",
    "display(Markdown(\"**The newest product in the sortiment**:\"))\n",
    "ACME_selection_DF.select('created_datetime','code','product_name').orderBy(col('created_datetime').desc()).show(1,False)\n"
   ]
  },
  {
   "cell_type": "markdown",
   "metadata": {},
   "source": [
    "Next we are looking at the average product age, where age means how long the product has been in the system."
   ]
  },
  {
   "cell_type": "code",
   "execution_count": 122,
   "metadata": {},
   "outputs": [
    {
     "data": {
      "text/markdown": [
       "**The 10 youngest products on average**:"
      ],
      "text/plain": [
       "<IPython.core.display.Markdown object>"
      ]
     },
     "metadata": {},
     "output_type": "display_data"
    },
    {
     "name": "stdout",
     "output_type": "stream",
     "text": [
      "+---------------------+----------------------------------+--------+\n",
      "|code                 |product_name                      |Avg_days|\n",
      "+---------------------+----------------------------------+--------+\n",
      "|8.436575091648E12    |vitamins hair/skins/nails         |15.0    |\n",
      "|8.412540019282E12    |palometa austral ahumada en aceite|15.0    |\n",
      "|8.414121190014E12    |garbanzos con alga kombu          |15.0    |\n",
      "|8.480017225016E12    |patatas bravas                    |15.0    |\n",
      "|8.437008675084E12    |almogrote                         |15.0    |\n",
      "|8.424465231045E12    |donuts chocolate                  |15.0    |\n",
      "|5.9712490452000205E17|lomo de cerdo ibérico             |16.0    |\n",
      "|5.8702480012000371E17|paleta de cebo iberica            |16.0    |\n",
      "|4.316734084596E12    |miso light                        |16.0    |\n",
      "|2.358220001573E12    |panceta salada iberica            |16.0    |\n",
      "+---------------------+----------------------------------+--------+\n",
      "only showing top 10 rows\n",
      "\n"
     ]
    },
    {
     "data": {
      "text/markdown": [
       "**The 10 oldest products on average**:"
      ],
      "text/plain": [
       "<IPython.core.display.Markdown object>"
      ]
     },
     "metadata": {},
     "output_type": "display_data"
    },
    {
     "name": "stdout",
     "output_type": "stream",
     "text": [
      "+-----------------+---------------------------+--------+\n",
      "|code             |product_name               |Avg_days|\n",
      "+-----------------+---------------------------+--------+\n",
      "|8.712566246465E12|moutarde fine de dijon     |3114.0  |\n",
      "|3.179732348913E12|perrier                    |3111.0  |\n",
      "|4.008400811727E12|mon chéri                  |3110.0  |\n",
      "|3.270190008613E12|couscous grain moyen       |3105.0  |\n",
      "|5.4492387E7      |coca cola light            |3096.0  |\n",
      "|5.410041040807E12|pim's framboise            |3092.0  |\n",
      "|5.6004083E7      |pedras                     |3086.0  |\n",
      "|5.606293100127E12|rucula                     |3082.0  |\n",
      "|5.449000169327E12|coca cola zéro sans caféine|3066.0  |\n",
      "|8.076808060654E12|farfalle                   |3058.0  |\n",
      "+-----------------+---------------------------+--------+\n",
      "only showing top 10 rows\n",
      "\n"
     ]
    }
   ],
   "source": [
    "from pyspark.sql.functions import datediff, months_between, mean, month\n",
    "\n",
    "ACME_selection_DF = ACME_selection_DF.withColumn(\"Diff\",datediff(current_timestamp(),\"created_datetime\"))\n",
    "\n",
    "# The 10 youngest products on average\n",
    "display(Markdown(\"**The 10 youngest products on average**:\"))\n",
    "ACME_selection_DF.select('Diff','code','product_name').groupBy('code','product_name').\\\n",
    "agg(mean('Diff').alias('Avg_days')).orderBy(col('Avg_days').asc()).show(10,False)\n",
    "\n",
    "# The 10 oldest products on average\n",
    "display(Markdown(\"**The 10 oldest products on average**:\"))\n",
    "ACME_selection_DF.select('Diff','code','product_name').groupBy('code','product_name').\\\n",
    "agg(mean('Diff').alias('Avg_days')).orderBy(col('Avg_days').desc()).show(10,False)\n"
   ]
  },
  {
   "cell_type": "markdown",
   "metadata": {},
   "source": [
    "### <ins>Product related columns basic profiling and questions</ins>"
   ]
  },
  {
   "cell_type": "code",
   "execution_count": 121,
   "metadata": {},
   "outputs": [
    {
     "data": {
      "text/markdown": [
       "**Summary of columns code, product_name, creator, countries_en, traces_en, additives_tags, packaging_tags, categories_en and main_category_en**:"
      ],
      "text/plain": [
       "<IPython.core.display.Markdown object>"
      ]
     },
     "metadata": {},
     "output_type": "display_data"
    },
    {
     "name": "stdout",
     "output_type": "stream",
     "text": [
      "+-------+--------------------+------------------+--------+------------+--------------------+\n",
      "|summary|                code|      product_name| creator|countries_en|           traces_en|\n",
      "+-------+--------------------+------------------+--------+------------+--------------------+\n",
      "|  count|              177629|            166529|  177629|      177628|                6184|\n",
      "|   mean|6.777577793804416E37|               NaN|Infinity|        null|                null|\n",
      "| stddev|2.588182533079289E40|               NaN|     NaN|        null|                null|\n",
      "|    min|                 1.0|#ke by kelia pipas|  99fran|No added MSG|balanced-diet-and...|\n",
      "|    25%|   5.998749107898E12|              95.0|Infinity|        null|                null|\n",
      "|    50%|   8.414606795482E12|            1900.0|Infinity|        null|                null|\n",
      "|    75%|   8.436038811431E12| 8.437004036308E12|Infinity|        null|                null|\n",
      "|    max|1.084370028664641...|        饮用天然水|   zqott|    spain-uk|sulphur dioxide a...|\n",
      "+-------+--------------------+------------------+--------+------------+--------------------+\n",
      "\n",
      "+-------+--------------+------------------+-------------+----------------+\n",
      "|summary|additives_tags|    packaging_tags|categories_en|main_category_en|\n",
      "+-------+--------------+------------------+-------------+----------------+\n",
      "|  count|          9787|             12115|        65228|           65229|\n",
      "|   mean|          null|15.957894736842105|         null|          1004.0|\n",
      "| stddev|          null| 57.91793824014112|         null|             NaN|\n",
      "|    min|     Spain,Sel|           0-270gr|     Pescados|          1004.0|\n",
      "|    25%|          null|               1.0|         null|          1004.0|\n",
      "|    50%|          null|               1.0|         null|          1004.0|\n",
      "|    75%|          null|               6.0|         null|          1004.0|\n",
      "|    max|          e968|      ♷,kunststoff| yeast-flakes|        zwieback|\n",
      "+-------+--------------+------------------+-------------+----------------+\n",
      "\n"
     ]
    },
    {
     "data": {
      "text/markdown": [
       "**Checking for nulls on columns product_name, creator, countries_en, traces_en, additives_tags, packaging_tags, categories_en and main_category_en**:"
      ],
      "text/plain": [
       "<IPython.core.display.Markdown object>"
      ]
     },
     "metadata": {},
     "output_type": "display_data"
    },
    {
     "name": "stdout",
     "output_type": "stream",
     "text": [
      "+----+------------+-------+------------+---------+--------------+--------------+-------------+----------------+\n",
      "|code|product_name|creator|countries_en|traces_en|additives_tags|packaging_tags|categories_en|main_category_en|\n",
      "+----+------------+-------+------------+---------+--------------+--------------+-------------+----------------+\n",
      "|   0|       11100|      0|           1|   171445|        167842|        165514|       112401|          112400|\n",
      "+----+------------+-------+------------+---------+--------------+--------------+-------------+----------------+\n",
      "\n"
     ]
    },
    {
     "data": {
      "text/markdown": [
       "**Checking for distinct values in columns product_name, creator, countries_en, traces_en, additives_tags, packaging_tags, categories_en and main_category_en**:"
      ],
      "text/plain": [
       "<IPython.core.display.Markdown object>"
      ]
     },
     "metadata": {},
     "output_type": "display_data"
    },
    {
     "name": "stdout",
     "output_type": "stream",
     "text": [
      "+------+------------+-------+------------+---------+--------------+--------------+-------------+----------------+\n",
      "|  code|product_name|creator|countries_en|traces_en|additives_tags|packaging_tags|categories_en|main_category_en|\n",
      "+------+------------+-------+------------+---------+--------------+--------------+-------------+----------------+\n",
      "|177221|       94082|    921|         692|     1042|          4175|          2405|         6625|            3594|\n",
      "+------+------------+-------+------------+---------+--------------+--------------+-------------+----------------+\n",
      "\n"
     ]
    },
    {
     "data": {
      "text/markdown": [
       "**Most and least frequent occurrences for product_name, creator, countries_en, traces_en, additives_tags, packaging_tags, categories_en and main_category_en**:"
      ],
      "text/plain": [
       "<IPython.core.display.Markdown object>"
      ]
     },
     "metadata": {},
     "output_type": "display_data"
    },
    {
     "data": {
      "text/markdown": [
       "\n",
       "| leastFreqcreator | mostFreqcreator | leastFreqcountries_en | mostFreqcountries_en |\n",
       "|----|----|----|----|\n",
       "| aurelien31 (1 occurrences) | kiliweb (131229 occurrences) | european union,france,germany,spain (1 occurrences) | spain (163042 occurrences) |\n"
      ],
      "text/plain": [
       "<IPython.core.display.Markdown object>"
      ]
     },
     "metadata": {},
     "output_type": "display_data"
    },
    {
     "data": {
      "text/markdown": [
       "\n",
       "| leastFreqtraces_en | mostFreqtraces_en | leastFreqadditives_tags | mostFreqadditives_tags |\n",
       "|----|----|----|----|\n",
       "| es:6-proteina-de-leche-1,es:8-hecho-en-mexico-elaborado-por-comercializadora-de-lacteos-y-derivados,es:almidon-modificado,es:azucar,es:grenetina-estabilizantes-cultivos-lacticos-y-natamicina-conservador-grasa-de-leche-1,es:leche-descremada-en-polvo,es:leche-semidescremada-pasteurizada-de-vaca,es:preparado-de-fruta-10-fresa,es:s-a-de-c-v,es:saborizante-natural,es:sorbato-de-potasio-conservador,es:y-curcumina-y-carmin-colorantes,es:acido-citrico-requdad-de-acidez (1 occurrences) | None (171445 occurrences) | e120,e301 (1 occurrences) | None (167842 occurrences) |\n"
      ],
      "text/plain": [
       "<IPython.core.display.Markdown object>"
      ]
     },
     "metadata": {},
     "output_type": "display_data"
    },
    {
     "data": {
      "text/markdown": [
       "\n",
       "| leastFreqpackaging_tags | mostFreqpackaging_tags | leastFreqcategories_en  | mostFreqcategories_en  |\n",
       "|----|----|----|----|\n",
       "| plastic-bottle,green-dot (1 occurrences) | None (165514 occurrences) | plant-based foods and beverages,beverages,plant-based beverages,milk substitute,plant milks,non-alcoholic beverages (1 occurrences) | None (112401 occurrences) |\n"
      ],
      "text/plain": [
       "<IPython.core.display.Markdown object>"
      ]
     },
     "metadata": {},
     "output_type": "display_data"
    }
   ],
   "source": [
    "from IPython.display import display, Markdown\n",
    "from pyspark.sql.functions import when, count, col, countDistinct, desc, first\n",
    "\n",
    "display(Markdown(\"**Summary of columns code, product_name, creator, countries_en, traces_en, additives_tags, packaging_tags, categories_en and main_category_en**:\"))\n",
    "ACME_selection_DF.select('code',\"product_name\", \"creator\", \"countries_en\", \"traces_en\").summary().show()\n",
    "ACME_selection_DF.select( \"additives_tags\",'packaging_tags','categories_en', \"main_category_en\").summary().show()\n",
    "\n",
    "display(Markdown(\"**Checking for nulls on columns product_name, creator, countries_en, traces_en, additives_tags, packaging_tags, categories_en and main_category_en**:\"))\n",
    "ACME_selection_DF.select([count(when(col(c).isNull(), c)).alias(c) for c in ['code',\"product_name\", \"creator\", \"countries_en\", \"traces_en\", \"additives_tags\",'packaging_tags','categories_en',\"main_category_en\"]]).show()\n",
    "\n",
    "display(Markdown(\"**Checking for distinct values in columns product_name, creator, countries_en, traces_en, additives_tags, packaging_tags, categories_en and main_category_en**:\"))\n",
    "ACME_selection_DF.select([countDistinct(c).alias(c) for c in ['code',\"product_name\", \"creator\", \"countries_en\", \"traces_en\", \"additives_tags\",'packaging_tags','categories_en', \"main_category_en\"]]).show()\n",
    "\n",
    "# Different DF used for the analysis\n",
    "display(Markdown(\"**Most and least frequent occurrences for product_name, creator, countries_en, traces_en, additives_tags, packaging_tags, categories_en and main_category_en**:\"))\n",
    "creatorDF = ACME_selection_DF.groupBy(\"creator\").agg(count(lit(1)).alias(\"Total\"))\n",
    "countries_enDF   = ACME_selection_DF.groupBy(\"countries_en\").agg(count(lit(1)).alias(\"Total\"))\n",
    "traces_enDF    = ACME_selection_DF.groupBy(\"traces_en\").agg(count(lit(1)).alias(\"Total\"))\n",
    "additives_tagsDF      = ACME_selection_DF.groupBy(\"additives_tags\").agg(count(lit(1)).alias(\"Total\"))\n",
    "packaging_tagsDF    = ACME_selection_DF.groupBy(\"packaging_tags\").agg(count(lit(1)).alias(\"Total\"))\n",
    "categories_enDF   = ACME_selection_DF.groupBy(\"categories_en\").agg(count(lit(1)).alias(\"Total\"))\n",
    "\n",
    "# First table for lowest and higest of different categories\n",
    "leastFreqcreator    = creatorDF.orderBy(col(\"Total\").asc()).first()\n",
    "mostFreqcreator     = creatorDF.orderBy(col(\"Total\").desc()).first()\n",
    "leastFreqcountries_en      = countries_enDF.orderBy(col(\"Total\").asc()).first()\n",
    "mostFreqcountries_en       = countries_enDF.orderBy(col(\"Total\").desc()).first()\n",
    "# Second table for lowest and higest of different categories\n",
    "leastFreqtraces_en       = traces_enDF.orderBy(col(\"Total\").asc()).first()\n",
    "mostFreqtraces_en        = traces_enDF.orderBy(col(\"Total\").desc()).first()\n",
    "leastFreqadditives_tags         = additives_tagsDF.orderBy(col(\"Total\").asc()).first()\n",
    "mostFreqadditives_tags          = additives_tagsDF.orderBy(col(\"Total\").desc()).first()\n",
    "# Third table for lowest and higest of different categories\n",
    "leastFreqpackaging_tags     = packaging_tagsDF.orderBy(col(\"Total\").asc()).first()\n",
    "mostFreqpackaging_tags      = packaging_tagsDF.orderBy(col(\"Total\").desc()).first()\n",
    "leastFreqcategories_en    = categories_enDF.orderBy(col(\"Total\").asc()).first()\n",
    "mostFreqcategories_en     = categories_enDF.orderBy(col(\"Total\").desc()).first()\n",
    "\n",
    "display(Markdown(\"\"\"\n",
    "| %s | %s | %s | %s |\n",
    "|----|----|----|----|\n",
    "| %s | %s | %s | %s |\n",
    "\"\"\" % (\"leastFreqcreator\", \"mostFreqcreator\", \"leastFreqcountries_en\", \"mostFreqcountries_en\", \\\n",
    "       \"%s (%d occurrences)\" % (leastFreqcreator[\"creator\"], leastFreqcreator[\"Total\"]), \\\n",
    "       \"%s (%d occurrences)\" % (mostFreqcreator[\"creator\"], mostFreqcreator[\"Total\"]), \\\n",
    "       \"%s (%d occurrences)\" % (leastFreqcountries_en[\"countries_en\"], leastFreqcountries_en[\"Total\"]), \\\n",
    "       \"%s (%d occurrences)\" % (mostFreqcountries_en[\"countries_en\"], mostFreqcountries_en[\"Total\"]))))\n",
    "display(Markdown(\"\"\"\n",
    "| %s | %s | %s | %s |\n",
    "|----|----|----|----|\n",
    "| %s | %s | %s | %s |\n",
    "\"\"\" % (\"leastFreqtraces_en\", \"mostFreqtraces_en\", \"leastFreqadditives_tags\", \"mostFreqadditives_tags\", \\\n",
    "       \"%s (%d occurrences)\" % (leastFreqtraces_en[\"traces_en\"], leastFreqtraces_en[\"Total\"]), \\\n",
    "       \"%s (%d occurrences)\" % (mostFreqtraces_en[\"traces_en\"], mostFreqtraces_en[\"Total\"]), \\\n",
    "       \"%s (%d occurrences)\" % (leastFreqadditives_tags[\"additives_tags\"], leastFreqadditives_tags[\"Total\"]), \\\n",
    "       \"%s (%d occurrences)\" % (mostFreqadditives_tags[\"additives_tags\"], mostFreqadditives_tags[\"Total\"]))))\n",
    "display(Markdown(\"\"\"\n",
    "| %s | %s | %s | %s |\n",
    "|----|----|----|----|\n",
    "| %s | %s | %s | %s |\n",
    "\"\"\" % (\"leastFreqpackaging_tags\", \"mostFreqpackaging_tags\", \"leastFreqcategories_en \", \"mostFreqcategories_en \", \\\n",
    "       \"%s (%d occurrences)\" % (leastFreqpackaging_tags[\"packaging_tags\"], leastFreqpackaging_tags[\"Total\"]), \\\n",
    "       \"%s (%d occurrences)\" % (mostFreqpackaging_tags[\"packaging_tags\"], mostFreqpackaging_tags[\"Total\"]), \\\n",
    "       \"%s (%d occurrences)\" % (leastFreqcategories_en[\"categories_en\"], leastFreqcategories_en[\"Total\"]), \\\n",
    "       \"%s (%d occurrences)\" % (mostFreqcategories_en[\"categories_en\"], mostFreqcategories_en[\"Total\"]))))\n"
   ]
  },
  {
   "cell_type": "markdown",
   "metadata": {},
   "source": [
    "We can see that we have a lot of issues in these kind of categories. A lot of missing values, things pasted together with commas and a wild mixture of different types in columns."
   ]
  },
  {
   "cell_type": "markdown",
   "metadata": {},
   "source": [
    "Next point of interest is a list of other countries than spain where products are sold too."
   ]
  },
  {
   "cell_type": "code",
   "execution_count": 223,
   "metadata": {},
   "outputs": [
    {
     "name": "stdout",
     "output_type": "stream",
     "text": [
      "+----------------------+-----+\n",
      "|country               |n    |\n",
      "+----------------------+-----+\n",
      "|france                |12147|\n",
      "|germany               |1107 |\n",
      "|belgium               |886  |\n",
      "|switzerland           |694  |\n",
      "|usa                   |646  |\n",
      "|portugal              |488  |\n",
      "|italy                 |474  |\n",
      "|uk                    |358  |\n",
      "|netherlands           |272  |\n",
      "|mexico                |228  |\n",
      "|argentina             |206  |\n",
      "|morocco               |136  |\n",
      "|canada                |121  |\n",
      "|austria               |119  |\n",
      "|norway                |106  |\n",
      "|venezuela             |84   |\n",
      "|russia-русский        |82   |\n",
      "|croatia-hrvatski      |82   |\n",
      "|macau-中文            |82   |\n",
      "|finetherlandsand-suomi|82   |\n",
      "+----------------------+-----+\n",
      "only showing top 20 rows\n",
      "\n"
     ]
    }
   ],
   "source": [
    "from pyspark.sql.functions import split, posexplode, regexp_replace\n",
    "\n",
    "# Splitting the colums to get the individual countries\n",
    "countries = ACME_selection_DF.select(posexplode(split('countries_en',','))).toDF('position','country')\n",
    "\n",
    "# Dropping of the first column to only have the countries and count them\n",
    "countries.drop('position').groupBy('country').agg(count('*').alias('n')).where(col('country') != 'spain').orderBy(col('n').desc()).show(20,False)\n"
   ]
  },
  {
   "cell_type": "markdown",
   "metadata": {},
   "source": [
    "Identify category of products and then compute:\n",
    " - Number of products by category\n",
    " - List containing names of products by category"
   ]
  },
  {
   "cell_type": "code",
   "execution_count": 30,
   "metadata": {},
   "outputs": [
    {
     "name": "stdout",
     "output_type": "stream",
     "text": [
      "+-----------------------+\n",
      "|main_category_en       |\n",
      "+-----------------------+\n",
      "|extra-virgin olive oils|\n",
      "|cheeses                |\n",
      "|biscuits               |\n",
      "|prepared meats         |\n",
      "|salty snacks           |\n",
      "|dietary supplements    |\n",
      "|breakfast cereals      |\n",
      "|dark chocolates        |\n",
      "|dairies                |\n",
      "|fruit-jams             |\n",
      "|breads                 |\n",
      "|yogurts                |\n",
      "|sauces                 |\n",
      "|cow milks              |\n",
      "|canned fishes          |\n",
      "|smoked salmons         |\n",
      "|biscuits and cakes     |\n",
      "|beers                  |\n",
      "|honeys                 |\n",
      "|candies                |\n",
      "+-----------------------+\n",
      "only showing top 20 rows\n",
      "\n"
     ]
    }
   ],
   "source": [
    "from pyspark.sql.functions import split, posexplode, regexp_replace\n",
    "\n",
    "# Variety of categories and sorted by most frequent category\n",
    "ACME_selection_DF.select('main_category_en','categories_en').dropna()\\\n",
    ".groupBy('main_category_en').agg(count('categories_en').alias('counts'))\\\n",
    ".orderBy(desc('counts')).drop('counts').show(20, False)"
   ]
  },
  {
   "cell_type": "code",
   "execution_count": 35,
   "metadata": {},
   "outputs": [
    {
     "name": "stdout",
     "output_type": "stream",
     "text": [
      "+-----------------------+------------------+\n",
      "|main_category_en       |product_name_count|\n",
      "+-----------------------+------------------+\n",
      "|extra-virgin olive oils|999               |\n",
      "|cheeses                |960               |\n",
      "|biscuits               |880               |\n",
      "|prepared meats         |737               |\n",
      "|salty snacks           |551               |\n",
      "|dark chocolates        |534               |\n",
      "|breakfast cereals      |515               |\n",
      "|dietary supplements    |511               |\n",
      "|dairies                |497               |\n",
      "|fruit-jams             |429               |\n",
      "|breads                 |389               |\n",
      "|yogurts                |376               |\n",
      "|sauces                 |343               |\n",
      "|cow milks              |332               |\n",
      "|smoked salmons         |329               |\n",
      "|canned fishes          |323               |\n",
      "|sheep's-milk cheeses   |319               |\n",
      "|honeys                 |315               |\n",
      "|biscuits and cakes     |312               |\n",
      "|candies                |311               |\n",
      "+-----------------------+------------------+\n",
      "only showing top 20 rows\n",
      "\n"
     ]
    }
   ],
   "source": [
    "from pyspark.sql.functions import split, posexplode, regexp_replace\n",
    "\n",
    "# Number of products and sorted by most frequent count of products in each category\n",
    "ACME_selection_DF.select('main_category_en','product_name').dropna()\\\n",
    ".groupBy('main_category_en').agg(count('product_name').alias('product_name_count'))\\\n",
    ".orderBy(desc('product_name_count')).show(20, False)"
   ]
  },
  {
   "cell_type": "code",
   "execution_count": 44,
   "metadata": {},
   "outputs": [
    {
     "name": "stdout",
     "output_type": "stream",
     "text": [
      "+--------------------------------------+-----------------------------------+------------------+\n",
      "|main_category_en                      |product_name                       |product_name_count|\n",
      "+--------------------------------------+-----------------------------------+------------------+\n",
      "|extra-virgin olive oils               |aceite de oliva virgen extra       |502               |\n",
      "|smoked salmons                        |salmón ahumado                     |143               |\n",
      "|es:mejillones-en-escabeche            |mejillones en escabeche            |142               |\n",
      "|fried tomato sauces                   |tomate frito                       |138               |\n",
      "|virgin olive oils                     |aceite de oliva virgen extra       |138               |\n",
      "|es:bonito-del-norte-en-aceite-de-oliva|bonito del norte en aceite de oliva|112               |\n",
      "|ketchup                               |ketchup                            |93                |\n",
      "|natural mineral waters                |agua mineral natural               |91                |\n",
      "|mayonnaises                           |mayonesa                           |76                |\n",
      "|olive oils                            |aceite de oliva                    |75                |\n",
      "|sunflower oils                        |aceite refinado de girasol         |64                |\n",
      "|potato crisps                         |patatas fritas                     |63                |\n",
      "|artichoke hearts                      |corazones de alcachofa             |59                |\n",
      "|himalaya salts                        |sal rosa del himalaya              |55                |\n",
      "|honeys                                |miel                               |50                |\n",
      "|rice puddings                         |arroz con leche                    |46                |\n",
      "|veggie burgers                        |burger vegetariana                 |46                |\n",
      "|cheeses                               |queso semicurado                   |45                |\n",
      "|milk chocolates                       |chocolate con leche                |45                |\n",
      "|gazpacho                              |gazpacho                           |43                |\n",
      "+--------------------------------------+-----------------------------------+------------------+\n",
      "only showing top 20 rows\n",
      "\n"
     ]
    }
   ],
   "source": [
    "from pyspark.sql.functions import split, posexplode, regexp_replace\n",
    "\n",
    "# List of product names by category\n",
    "ACME_selection_DF.select('main_category_en','product_name').dropna()\\\n",
    ".groupBy('main_category_en','product_name').agg(count('product_name').alias('product_name_count'))\\\n",
    ".orderBy(desc('product_name_count')).show(20, False)"
   ]
  },
  {
   "cell_type": "markdown",
   "metadata": {},
   "source": [
    "Identify traces and compute:\n",
    "- Number of products by trace\n",
    "- List containing names of products by trace"
   ]
  },
  {
   "cell_type": "code",
   "execution_count": 39,
   "metadata": {},
   "outputs": [
    {
     "name": "stdout",
     "output_type": "stream",
     "text": [
      "+-----------------------------+\n",
      "|traces_en                    |\n",
      "+-----------------------------+\n",
      "|nuts                         |\n",
      "|milk                         |\n",
      "|milk,nuts                    |\n",
      "|soybeans                     |\n",
      "|nuts,peanuts                 |\n",
      "|eggs                         |\n",
      "|gluten                       |\n",
      "|milk,soybeans                |\n",
      "|gluten,nuts                  |\n",
      "|nuts,soybeans                |\n",
      "|milk,nuts,soybeans           |\n",
      "|nuts,sesame seeds            |\n",
      "|sesame seeds                 |\n",
      "|sesame seeds,soybeans        |\n",
      "|sulphur dioxide and sulphites|\n",
      "|gluten,milk,nuts             |\n",
      "|eggs,nuts                    |\n",
      "|celery                       |\n",
      "|milk,nuts,peanuts            |\n",
      "|eggs,nuts,peanuts            |\n",
      "+-----------------------------+\n",
      "only showing top 20 rows\n",
      "\n"
     ]
    }
   ],
   "source": [
    "from pyspark.sql.functions import split, posexplode, regexp_replace, count, desc\n",
    "\n",
    "# Variety of traces and sorted by most frequent category\n",
    "ACME_selection_DF.select('traces_en').dropna()\\\n",
    ".groupBy('traces_en').agg(count('traces_en').alias('traces_en_count'))\\\n",
    ".orderBy(desc('traces_en_count')).drop('traces_en_count').show(20, False)"
   ]
  },
  {
   "cell_type": "code",
   "execution_count": 45,
   "metadata": {},
   "outputs": [
    {
     "name": "stdout",
     "output_type": "stream",
     "text": [
      "+-----------------------------+------------------+\n",
      "|traces_en                    |product_name_count|\n",
      "+-----------------------------+------------------+\n",
      "|nuts                         |566               |\n",
      "|milk                         |362               |\n",
      "|milk,nuts                    |266               |\n",
      "|soybeans                     |256               |\n",
      "|nuts,peanuts                 |228               |\n",
      "|eggs                         |163               |\n",
      "|gluten                       |161               |\n",
      "|milk,soybeans                |129               |\n",
      "|gluten,nuts                  |127               |\n",
      "|nuts,soybeans                |121               |\n",
      "|milk,nuts,soybeans           |118               |\n",
      "|nuts,sesame seeds            |117               |\n",
      "|sesame seeds                 |101               |\n",
      "|sesame seeds,soybeans        |84                |\n",
      "|sulphur dioxide and sulphites|78                |\n",
      "|gluten,milk,nuts             |71                |\n",
      "|eggs,nuts                    |68                |\n",
      "|milk,nuts,peanuts            |61                |\n",
      "|celery                       |61                |\n",
      "|eggs,nuts,peanuts            |60                |\n",
      "+-----------------------------+------------------+\n",
      "only showing top 20 rows\n",
      "\n"
     ]
    }
   ],
   "source": [
    "from pyspark.sql.functions import split, posexplode, regexp_replace, count, desc\n",
    "\n",
    "# List of product names by category\n",
    "ACME_selection_DF.select('traces_en','product_name').dropna()\\\n",
    ".groupBy('traces_en').agg(count('product_name').alias('product_name_count'))\\\n",
    ".orderBy(desc('product_name_count')).show(20, False)"
   ]
  },
  {
   "cell_type": "code",
   "execution_count": 46,
   "metadata": {},
   "outputs": [
    {
     "name": "stdout",
     "output_type": "stream",
     "text": [
      "+----------------------------------------------------------+------------------------------------+------------------+\n",
      "|traces_en                                                 |product_name                        |product_name_count|\n",
      "+----------------------------------------------------------+------------------------------------+------------------+\n",
      "|gluten                                                    |lenteja pardina                     |7                 |\n",
      "|nuts                                                      |chocolate con leche                 |7                 |\n",
      "|milk,soybeans                                             |digestive avena                     |7                 |\n",
      "|milk,nuts                                                 |chocolate negro                     |6                 |\n",
      "|nuts,soybeans                                             |bebida de avena                     |5                 |\n",
      "|milk,nuts                                                 |tableta de chocolate negro 70% cacao|5                 |\n",
      "|crustaceans,fish                                          |berberechos al natural              |5                 |\n",
      "|eggs                                                      |spaghetti                           |4                 |\n",
      "|nuts                                                      |bebida de soja                      |4                 |\n",
      "|eggs                                                      |empiñonadas                         |4                 |\n",
      "|milk,soybeans                                             |digestive                           |4                 |\n",
      "|gluten,nuts                                               |chocolate blanco                    |4                 |\n",
      "|milk                                                      |cola cao original                   |4                 |\n",
      "|nuts                                                      |frutos secos                        |4                 |\n",
      "|soybeans                                                  |garbanzo lechoso                    |4                 |\n",
      "|gluten,milk                                               |vitalday                            |4                 |\n",
      "|es:pueden-contener-trazas-de-cereales-que-contengan-gluten|lenteja                             |4                 |\n",
      "|soybeans                                                  |garbanzo extra                      |4                 |\n",
      "|nuts                                                      |peladillas                          |4                 |\n",
      "|sesame seeds                                              |rosquillas                          |3                 |\n",
      "+----------------------------------------------------------+------------------------------------+------------------+\n",
      "only showing top 20 rows\n",
      "\n"
     ]
    }
   ],
   "source": [
    "from pyspark.sql.functions import split, posexplode, regexp_replace, count, desc\n",
    "\n",
    "# List of product names by category\n",
    "ACME_selection_DF.select('traces_en','product_name').dropna()\\\n",
    ".groupBy('traces_en','product_name').agg(count('product_name').alias('product_name_count'))\\\n",
    ".orderBy(desc('product_name_count')).show(20, False)"
   ]
  },
  {
   "cell_type": "markdown",
   "metadata": {},
   "source": [
    "### <ins>Ingredients composition related columns basic profiling and questions</ins>"
   ]
  },
  {
   "cell_type": "code",
   "execution_count": 48,
   "metadata": {},
   "outputs": [
    {
     "data": {
      "text/markdown": [
       "**Summary of columns quantity, energy-kcal_100g, fat_100g, saturated_fat_100g, sugars_100g, salt_100g, sodium_100g, additives_en and ingredients_text**:"
      ],
      "text/plain": [
       "<IPython.core.display.Markdown object>"
      ]
     },
     "metadata": {},
     "output_type": "display_data"
    },
    {
     "name": "stdout",
     "output_type": "stream",
     "text": [
      "+-------+------------------+------------------+--------------------+------------------+\n",
      "|summary|          quantity|  energy-kcal_100g|            fat_100g|saturated-fat_100g|\n",
      "+-------+------------------+------------------+--------------------+------------------+\n",
      "|  count|             37270|            135435|              136542|            136543|\n",
      "|   mean|156.85462807881774|292.02799817283926|  15.593317012586347| 5.321165252786318|\n",
      "| stddev|218.02797269892247|221.78471317168402|  20.019686905822905|   7.9463911596595|\n",
      "|    min| &lt;318g 6 huevos|               0.0|                 0.0|               0.0|\n",
      "|    25%|               3.0|             106.0|                 1.3|               0.3|\n",
      "|    50%|              50.0|             273.0|                 8.1|               2.0|\n",
      "|    75%|             250.0|             427.0|                24.0|               7.0|\n",
      "|    max|             ¨8 ml|         en:gluten|en:product-name-c...|             140.0|\n",
      "+-------+------------------+------------------+--------------------+------------------+\n",
      "\n",
      "+-------+--------------------+------------------+--------------------+-----------------+--------------------+\n",
      "|summary|         sugars_100g|         salt_100g|         sodium_100g|     additives_en|    ingredients_text|\n",
      "+-------+--------------------+------------------+--------------------+-----------------+--------------------+\n",
      "|  count|              136104|            137774|              137774|             9788|               19436|\n",
      "|   mean|   9.699072001508174|1.2792611638933395|  0.5116968321584113|              4.0|                null|\n",
      "| stddev|   16.83538551990073|21.178211985846637|    8.47072607677346|              NaN|                null|\n",
      "|    min|                 0.0|               0.0|                 0.0|                4|\"_lait_ et _crème...|\n",
      "|    25%|                 0.5|              0.07|               0.028|              4.0|                null|\n",
      "|    50%|                 2.0|               0.6|                0.24|              4.0|                null|\n",
      "|    75%|                10.0|               1.5|                 0.6|              4.0|                null|\n",
      "|    max|en:expiration-dat...|  Brands completed|Packaging to be c...|e968 - erythritol|• entôltes ba*, i...|\n",
      "+-------+--------------------+------------------+--------------------+-----------------+--------------------+\n",
      "\n"
     ]
    },
    {
     "data": {
      "text/markdown": [
       "**Checking for nulls on columns quantity, energy_kcal_100g, fat_100g, saturated-fat_100g, sugars_100g, salt_100g, sodium_100g,additives_en and ingredients_text**:"
      ],
      "text/plain": [
       "<IPython.core.display.Markdown object>"
      ]
     },
     "metadata": {},
     "output_type": "display_data"
    },
    {
     "name": "stdout",
     "output_type": "stream",
     "text": [
      "+--------+----------------+--------+------------------+-----------+---------+-----------+------------+----------------+\n",
      "|quantity|energy-kcal_100g|fat_100g|saturated-fat_100g|sugars_100g|salt_100g|sodium_100g|additives_en|ingredients_text|\n",
      "+--------+----------------+--------+------------------+-----------+---------+-----------+------------+----------------+\n",
      "|  140359|           42194|   41087|             41086|      41525|    39855|      39855|      167841|          158193|\n",
      "+--------+----------------+--------+------------------+-----------+---------+-----------+------------+----------------+\n",
      "\n"
     ]
    },
    {
     "data": {
      "text/markdown": [
       "**Checking for distinct values in columns quantity, energy_kcal_100g, fat_100g, saturated_fat_100g, sugars_100g, salt_100g, sodium_100g, additives_en and ingredients_text**:"
      ],
      "text/plain": [
       "<IPython.core.display.Markdown object>"
      ]
     },
     "metadata": {},
     "output_type": "display_data"
    },
    {
     "name": "stdout",
     "output_type": "stream",
     "text": [
      "+--------+----------------+--------+------------------+-----------+---------+-----------+------------+----------------+\n",
      "|quantity|energy-kcal_100g|fat_100g|saturated-fat_100g|sugars_100g|salt_100g|sodium_100g|additives_en|ingredients_text|\n",
      "+--------+----------------+--------+------------------+-----------+---------+-----------+------------+----------------+\n",
      "|    3825|            3751|    3876|              2963|       3517|     2636|       2644|        4176|           17889|\n",
      "+--------+----------------+--------+------------------+-----------+---------+-----------+------------+----------------+\n",
      "\n"
     ]
    },
    {
     "data": {
      "text/markdown": [
       "**Most and least frequent occurrences for quantity, energy_kcal_100g, fat_100g, saturated-fat_100g, sugars_100g, salt_100g, sodium_100g, additives_en and ingredients_text**:"
      ],
      "text/plain": [
       "<IPython.core.display.Markdown object>"
      ]
     },
     "metadata": {},
     "output_type": "display_data"
    },
    {
     "data": {
      "text/markdown": [
       "\n",
       "| leastFreqenergy_kcal_100g | mostFreqenergy_kcal_100g | leastFreqfat_100g | mostFreqfat_100g |\n",
       "|----|----|----|----|\n",
       "| 1496.0 (1 occurrences) | None (42194 occurrences) | 25.799999237061 (1 occurrences) | None (41087 occurrences) |\n"
      ],
      "text/plain": [
       "<IPython.core.display.Markdown object>"
      ]
     },
     "metadata": {},
     "output_type": "display_data"
    },
    {
     "data": {
      "text/markdown": [
       "\n",
       "| leastFreqsaturated_fat_100g | mostFreqsaturated_fat_100g | leastFreqsugars_100g | mostFreqsugars_100g |\n",
       "|----|----|----|----|\n",
       "| 9.6800003051758 (1 occurrences) | None (41086 occurrences) | 20.39999961853 (1 occurrences) | None (41525 occurrences) |\n"
      ],
      "text/plain": [
       "<IPython.core.display.Markdown object>"
      ]
     },
     "metadata": {},
     "output_type": "display_data"
    },
    {
     "data": {
      "text/markdown": [
       "\n",
       "| leastFreqadditives_en | mostFreqadditives_en | leastFreqingredients_text  | mostFreqingredients_text  |\n",
       "|----|----|----|----|\n",
       "| e150c - ammonia caramel,e322 - lecithins,e322i - lecithin (1 occurrences) | None (167841 occurrences) | carne de pollo 48 %, carne de pavo 34 %, agua, sal, especias, conservador (sulfito de sodio ) y colorante (carmín y extracto de pimentón)  embutido con tripa estrecha de cordero. (1 occurrences) | None (158193 occurrences) |\n"
      ],
      "text/plain": [
       "<IPython.core.display.Markdown object>"
      ]
     },
     "metadata": {},
     "output_type": "display_data"
    }
   ],
   "source": [
    "from IPython.display import display, Markdown\n",
    "from pyspark.sql.functions import when, count, col, countDistinct, desc, first, lit\n",
    "\n",
    "display(Markdown(\"**Summary of columns quantity, energy-kcal_100g, fat_100g, saturated_fat_100g, sugars_100g, salt_100g, sodium_100g, additives_en and ingredients_text**:\"))\n",
    "ACME_selection_DF.select(\"quantity\", \"energy-kcal_100g\", \"fat_100g\", \"saturated-fat_100g\").summary().show()\n",
    "ACME_selection_DF.select( \"sugars_100g\",'salt_100g','sodium_100g','additives_en', \"ingredients_text\").summary().show()\n",
    "\n",
    "display(Markdown(\"**Checking for nulls on columns quantity, energy_kcal_100g, fat_100g, saturated-fat_100g, sugars_100g, salt_100g, sodium_100g,additives_en and ingredients_text**:\"))\n",
    "ACME_selection_DF.select([count(when(col(c).isNull(), c)).alias(c) for c in [\"quantity\", \"energy-kcal_100g\", \"fat_100g\", \"saturated-fat_100g\", \"sugars_100g\",'salt_100g','sodium_100g','additives_en',\"ingredients_text\"]]).show()\n",
    "\n",
    "display(Markdown(\"**Checking for distinct values in columns quantity, energy_kcal_100g, fat_100g, saturated_fat_100g, sugars_100g, salt_100g, sodium_100g, additives_en and ingredients_text**:\"))\n",
    "ACME_selection_DF.select([countDistinct(c).alias(c) for c in [\"quantity\", \"energy-kcal_100g\", \"fat_100g\", \"saturated-fat_100g\", \"sugars_100g\",'salt_100g','sodium_100g','additives_en', \"ingredients_text\"]]).show()\n",
    "\n",
    "display(Markdown(\"**Most and least frequent occurrences for quantity, energy_kcal_100g, fat_100g, saturated-fat_100g, sugars_100g, salt_100g, sodium_100g, additives_en and ingredients_text**:\"))\n",
    "energy_kcal_100gDF = ACME_selection_DF.groupBy(\"energy-kcal_100g\").agg(count(lit(1)).alias(\"Total\"))\n",
    "fat_100gDF   = ACME_selection_DF.groupBy(\"fat_100g\").agg(count(lit(1)).alias(\"Total\"))\n",
    "saturated_fat_100gDF    = ACME_selection_DF.groupBy(\"saturated-fat_100g\").agg(count(lit(1)).alias(\"Total\"))\n",
    "sugars_100gDF      = ACME_selection_DF.groupBy(\"sugars_100g\").agg(count(lit(1)).alias(\"Total\"))\n",
    "salt_100gDF    = ACME_selection_DF.groupBy(\"salt_100g\").agg(count(lit(1)).alias(\"Total\"))\n",
    "sodium_100gDF   = ACME_selection_DF.groupBy(\"sodium_100g\").agg(count(lit(1)).alias(\"Total\"))\n",
    "additives_enDF   = ACME_selection_DF.groupBy(\"additives_en\").agg(count(lit(1)).alias(\"Total\"))\n",
    "ingredients_textDF  = ACME_selection_DF.groupBy(\"ingredients_text\").agg(count(lit(1)).alias(\"Total\"))\n",
    "\n",
    "# First table for lowest and higest of different categories\n",
    "leastFreqenergy_kcal_100g    = energy_kcal_100gDF.orderBy(col(\"Total\").asc()).first()\n",
    "mostFreqenergy_kcal_100g     = energy_kcal_100gDF.orderBy(col(\"Total\").desc()).first()\n",
    "leastFreqfat_100g      = fat_100gDF.orderBy(col(\"Total\").asc()).first()\n",
    "mostFreqfat_100g       = fat_100gDF.orderBy(col(\"Total\").desc()).first()\n",
    "# Second table for lowest and higest of different categories\n",
    "leastFreqsaturated_fat_100g       = saturated_fat_100gDF.orderBy(col(\"Total\").asc()).first()\n",
    "mostFreqsaturated_fat_100g        = saturated_fat_100gDF.orderBy(col(\"Total\").desc()).first()\n",
    "leastFreqsugars_100g         = sugars_100gDF.orderBy(col(\"Total\").asc()).first()\n",
    "mostFreqsugars_100g          = sugars_100gDF.orderBy(col(\"Total\").desc()).first()\n",
    "# Third table for lowest and higest of different categories\n",
    "leastFreqsalt_100g     = salt_100gDF.orderBy(col(\"Total\").asc()).first()\n",
    "mostFreqsalt_100g      = salt_100gDF.orderBy(col(\"Total\").desc()).first()\n",
    "leastFreqsodium_100g    = sodium_100gDF.orderBy(col(\"Total\").asc()).first()\n",
    "mostFreqsodium_100g     = sodium_100gDF.orderBy(col(\"Total\").desc()).first()\n",
    "# Fourth table for lowest and higest of different categories\n",
    "leastFreqadditives_en    = additives_enDF.orderBy(col(\"Total\").asc()).first()\n",
    "mostFreqadditives_en     = additives_enDF.orderBy(col(\"Total\").desc()).first()\n",
    "leastFreqingredients_text    = ingredients_textDF.orderBy(col(\"Total\").asc()).first()\n",
    "mostFreqingredients_text     = ingredients_textDF.orderBy(col(\"Total\").desc()).first()\n",
    "\n",
    "display(Markdown(\"\"\"\n",
    "| %s | %s | %s | %s |\n",
    "|----|----|----|----|\n",
    "| %s | %s | %s | %s |\n",
    "\"\"\" % (\"leastFreqenergy_kcal_100g\", \"mostFreqenergy_kcal_100g\", \"leastFreqfat_100g\", \"mostFreqfat_100g\", \\\n",
    "       \"%s (%d occurrences)\" % (leastFreqenergy_kcal_100g[\"energy-kcal_100g\"], leastFreqenergy_kcal_100g[\"Total\"]), \\\n",
    "       \"%s (%d occurrences)\" % (mostFreqenergy_kcal_100g[\"energy-kcal_100g\"], mostFreqenergy_kcal_100g[\"Total\"]), \\\n",
    "       \"%s (%d occurrences)\" % (leastFreqfat_100g[\"fat_100g\"], leastFreqfat_100g[\"Total\"]), \\\n",
    "       \"%s (%d occurrences)\" % (mostFreqfat_100g[\"fat_100g\"], mostFreqfat_100g[\"Total\"]))))\n",
    "display(Markdown(\"\"\"\n",
    "| %s | %s | %s | %s |\n",
    "|----|----|----|----|\n",
    "| %s | %s | %s | %s |\n",
    "\"\"\" % (\"leastFreqsaturated_fat_100g\", \"mostFreqsaturated_fat_100g\", \"leastFreqsugars_100g\", \"mostFreqsugars_100g\", \\\n",
    "       \"%s (%d occurrences)\" % (leastFreqsaturated_fat_100g[\"saturated-fat_100g\"], leastFreqsaturated_fat_100g[\"Total\"]), \\\n",
    "       \"%s (%d occurrences)\" % (mostFreqsaturated_fat_100g[\"saturated-fat_100g\"], mostFreqsaturated_fat_100g[\"Total\"]), \\\n",
    "       \"%s (%d occurrences)\" % (leastFreqsugars_100g[\"sugars_100g\"], leastFreqsugars_100g[\"Total\"]), \\\n",
    "       \"%s (%d occurrences)\" % (mostFreqsugars_100g[\"sugars_100g\"], mostFreqsugars_100g[\"Total\"]))))\n",
    "display(Markdown(\"\"\"\n",
    "| %s | %s | %s | %s |\n",
    "|----|----|----|----|\n",
    "| %s | %s | %s | %s |\n",
    "\"\"\" % (\"leastFreqadditives_en\", \"mostFreqadditives_en\", \"leastFreqingredients_text \", \"mostFreqingredients_text \", \\\n",
    "       \"%s (%d occurrences)\" % (leastFreqadditives_en[\"additives_en\"], leastFreqadditives_en[\"Total\"]), \\\n",
    "       \"%s (%d occurrences)\" % (mostFreqadditives_en[\"additives_en\"], mostFreqadditives_en[\"Total\"]), \\\n",
    "       \"%s (%d occurrences)\" % (leastFreqingredients_text[\"ingredients_text\"], leastFreqingredients_text[\"Total\"]), \\\n",
    "       \"%s (%d occurrences)\" % (mostFreqingredients_text[\"ingredients_text\"], mostFreqingredients_text[\"Total\"]))))\n"
   ]
  },
  {
   "cell_type": "markdown",
   "metadata": {},
   "source": [
    "The majority of food added to the platform are missing nutritional facts."
   ]
  },
  {
   "cell_type": "markdown",
   "metadata": {},
   "source": [
    "Data quality analysis on fields of interest (see appendix 1):\n",
    "- Number of products with complete info.\n",
    "- % of products without complete analysis per 100g\n",
    "- % of products without additives info\n",
    "- % of products without traces info"
   ]
  },
  {
   "cell_type": "code",
   "execution_count": 89,
   "metadata": {},
   "outputs": [
    {
     "data": {
      "text/markdown": [
       "The total number of complete columns is 1234"
      ],
      "text/plain": [
       "<IPython.core.display.Markdown object>"
      ]
     },
     "metadata": {},
     "output_type": "display_data"
    }
   ],
   "source": [
    "from pyspark.sql.types import IntegerType\n",
    "from pyspark.sql.functions import split, posexplode, regexp_replace, count, desc, lit, col\n",
    "\n",
    "total = ACME_selection_DF.select(\"*\").dropna().count()\n",
    "display(Markdown(\"The total number of complete columns is %d\" % total))"
   ]
  },
  {
   "cell_type": "code",
   "execution_count": 113,
   "metadata": {},
   "outputs": [
    {
     "data": {
      "text/markdown": [
       "**26.48 % of products are without complete analysis per 100g.**"
      ],
      "text/plain": [
       "<IPython.core.display.Markdown object>"
      ]
     },
     "metadata": {},
     "output_type": "display_data"
    }
   ],
   "source": [
    "# Creation of neccessary DF for analysis\n",
    "products_100gDF = \\\n",
    "  ACME_selection_DF.withColumn(\"energy-kcal_100g\", col(\"energy-kcal_100g\").cast(IntegerType()))\\\n",
    "                   .withColumn(\"fat_100g\", col(\"fat_100g\").cast(IntegerType()))\\\n",
    "                   .withColumn(\"saturated-fat_100g\", col(\"saturated-fat_100g\").cast(IntegerType()))\\\n",
    "                   .withColumn(\"sugars_100g\", col(\"sugars_100g\").cast(IntegerType()))\\\n",
    "                   .withColumn(\"salt_100g\", col(\"salt_100g\").cast(IntegerType()))\\\n",
    "                   .withColumn(\"sodium_100g\", col(\"sodium_100g\").cast(IntegerType()))\\\n",
    "                   .select(\"energy-kcal_100g\",\"fat_100g\",\"saturated-fat_100g\",\\\n",
    "                               \"sugars_100g\",'salt_100g','sodium_100g')\n",
    "\n",
    "products_100gDF.cache() # to make it run faster\n",
    "\n",
    "# % of products without complete analysis per 100g\n",
    "wth_comp_ana = (1 - products_100gDF.dropna().count()/products_100gDF.count())*100\n",
    "display(Markdown(\"**%2.2f %% of products are without complete analysis per 100g.**\" % wth_comp_ana))"
   ]
  },
  {
   "cell_type": "code",
   "execution_count": 119,
   "metadata": {},
   "outputs": [
    {
     "data": {
      "text/markdown": [
       "**94.49 % of products are without additives info.**"
      ],
      "text/plain": [
       "<IPython.core.display.Markdown object>"
      ]
     },
     "metadata": {},
     "output_type": "display_data"
    }
   ],
   "source": [
    "# % of products without additives info\n",
    "\n",
    "add_non_miss = (1 - ACME_selection_DF.select('additives_en').dropna().count()/ACME_selection_DF.count())*100\n",
    "display(Markdown(\"**%2.2f %% of products are without additives info.**\" % add_non_miss))"
   ]
  },
  {
   "cell_type": "code",
   "execution_count": 120,
   "metadata": {},
   "outputs": [
    {
     "data": {
      "text/markdown": [
       "**96.52 % of products are without traces info.**"
      ],
      "text/plain": [
       "<IPython.core.display.Markdown object>"
      ]
     },
     "metadata": {},
     "output_type": "display_data"
    }
   ],
   "source": [
    "# % of products without traces info\n",
    "\n",
    "trace_miss = (1 - ACME_selection_DF.select('traces_en').dropna().count()/ACME_selection_DF.count())*100\n",
    "display(Markdown(\"**%2.2f %% of products are without traces info.**\" % trace_miss))"
   ]
  },
  {
   "cell_type": "markdown",
   "metadata": {},
   "source": [
    "### <ins>Dangerous products categorization</ins>"
   ]
  },
  {
   "cell_type": "code",
   "execution_count": 123,
   "metadata": {},
   "outputs": [],
   "source": [
    "from pyspark.sql.functions import count, round\n",
    "from pyspark.sql.functions import when, count, col, countDistinct, desc, first, split\n",
    "\n",
    "totalProducts = ACME_selection_DF.count()\n",
    "\n",
    "# Labeling and categorization of the different additives\n",
    "\n",
    "safe = [\"e100\", \"e101\",\"e140\",\"e160a\",\"e160b\",\"e160c\",\"e160d\",\"e160e\",\"e160f\",\"e161a\",\"e161b\",\"e161c\",\"e161c\",\\\n",
    "        \"e161d\",\"e161e\",\"e161f\",\"e162\",\"e163\",\"e170\",\"e174\",\"e175\",\"e236\",\"e237\",\"e238\",\"e263\",\"e270\",\"e280\",\\\n",
    "        \"e281\",\"e282\",\"e283\",\"e300\",\"e301\",\"e302\",\"e304\",\"e306\",\"e307\",\"e308\",\"e309\",\"e310\",\"e322\",\"e325\",\"e326\",\\\n",
    "        \"e327\",\"e331\",\"e332\"\"e333\",\"e335\",\"e336\",\"e337\",\"e400\",\"e401\",\"e402\",\"e403\",\"e404\",\"e405\",\"e406\",\"e408\",\n",
    "        \"e410\",\"e411\",\"e412\",\"e414\",\"e415\",\"e420\",\"e421\",\"e422\",\"e471\",\"e472\",\"e473\",\"e474\",\"e475\",\"e480\",\"107\",\"154\",\"234\"]\n",
    "\n",
    "forbidden = [\"e103\",\"e105\",\"e111\",\"e121\",\"e125\",\"e126\",\"e130\",\"e152\",\"e181\"]\n",
    "\n",
    "suspicious = [\"e122\",\"e141\",\"e150\",\"e153\",\"e171\",\"e172\",\"e173\",\"e180\",\"e240\",\"e241\",\"e413\",\"e477\",\"128\",\"133\"]\n",
    "\n",
    "toxic = [\"621\",\"622\",\"623\"]\n",
    "\n",
    "dangerous = [\"e102\",\"e104\",\"e110\",\"e120\",\"e124\",\"e127\",\"e151\",\"e200\",\"e201\",\"e202\",\"e203\",\"e210\",\"e211\",\"e212\",\\\n",
    "             \"e213\",\"e214\",\"e215\",\"e216\",\"e217\",\"e218\",\"e219\",\"e220\",\"e221\",\"e222\",\"e223\",\"e224\",\"e226\",\"e227\",\\\n",
    "             \"e230\",\"e231\",\"e232\",\"e333\",\"e249\",\"e250\",\"e251\",\"e252\",\"e260\",\"e261\",\"e262\",\"e290\",\"e320\",\"e311\",\\\n",
    "             \"e312\",\"e321\",\"e330\",\"e334\",\"e338\",\"e339\",\"e340\",\"e341\",\"e407\",\"e450a\",\"e450b\",\"e450c\",\"e461\",\"e462\",\\\n",
    "             \"e463\",\"e465\",\"466\"]\n",
    "\n",
    "very_dangerous = [\"e123\"]\n",
    "\n",
    "cancer = [\"e131\",\"e132\",\"e142\",\"e239\"]\n",
    "\n",
    "emul_stabilizers = [\"430\",\"431\",\"432\",\"433\",\"434\",\"435\",\"436\",\"476\",\"478\",\"491\",\"492\",\"493\",\"494\",\"495\",\"e460\",\\\n",
    "                    \"e464\",\"e470\",\"e481\",\"e482\",\"e483\",\"e440a\",\"e440b\"]\n",
    "miscellaneous = [\"262\",\"296\",\"297\",\"350\",\"351\",\"352\",\"353\",\"355\",\"363\",\"370\",\"375\",\"380\",\"381\",\"385\",\"500\",\"501\",\"503\",\\\n",
    "                 \"504\",\"507\",\"508\",\"509\",\"510\",\"513\",\"514\",\"515\",\"516\",\"518\",\"524\",\"525\",\"526\",\"527\",\"528\",\"529\",\"530\",\"535\",\\\n",
    "                 \"536\",\"540\",\"541\",\"542\",\"544\",\"545\",\"551\",\"552\",\"554\",\"556\",\"558\",\"559\",\"570\",\"572\",\"575\",\"576\",\"577\",\"578\",\\\n",
    "                 \"620\",\"627\",\"631\",\"635\",\"636\",\"637\",\"900\",\"901\",\"903\",\"904\",\"905\",\"907\",\"920\",\"924\",\"925\",\"926\",\"927\"]"
   ]
  },
  {
   "cell_type": "code",
   "execution_count": null,
   "metadata": {},
   "outputs": [],
   "source": [
    "\n",
    "CategorizationDF = foodDF\\\n",
    "   .where(col(\"additives_tags\")!=\"NA\")\\\n",
    "   .withColumn(\"FoodSafety\", when(col(\"additives_tags\") in safe,\"Safe\")\\\n",
    "                               .when(col(\"additives_tags\") in forbidden,\"Forbidden\")\\\n",
    "                               .when(col(\"additives_tags\") in toxic ,\"Toxic\")\\\n",
    "                               .when(col(\"additives_tags\") in dangerous ,\"Dangerous\")\\\n",
    "                               .when(col(\"additives_tags\") in very_dangerous ,\"Very Dangerous\")\\\n",
    "                               .when(col(\"additives_tags\") in cancer ,\"Cancer\")\\\n",
    "                               .when(col(\"additives_tags\") in emul_stabilizers ,\"Stabilizers\")\\\n",
    "                               .when(col(\"additives_tags\") in miscellaneous ,\"Miscellaneous\")\\\n",
    "                               .otherwise(\"Not Defined\"))\n",
    "CategorizationDF.cache() # optimization to make the processing faster\n",
    "# 2. Ready to answer to this business question\n",
    "CategorizationDF.where(col(\"additives_tags\")!=\"NA\")\\\n",
    "                     .select(\"FoodSafety\", \"additives_tags\")\\\n",
    "                     .groupBy(\"FoodSafety\")\\\n",
    "                     .agg(count(\"FoodSafety\").alias(\"NumFoodCategorized\"), \\\n",
    "                          (count(\"FoodSafety\")/totalProducts*100).alias(\"Ratio\"))\\\n",
    "                     .orderBy(\"FoodSafety\")\\\n",
    "                     .select(\"FoodSafety\",\"NumFoodCategorized\",round(\"Ratio\",2).alias(\"RoundedRatio\")).show()"
   ]
  },
  {
   "cell_type": "code",
   "execution_count": 130,
   "metadata": {},
   "outputs": [
    {
     "ename": "ValueError",
     "evalue": "Cannot convert column into bool: please use '&' for 'and', '|' for 'or', '~' for 'not' when building DataFrame boolean expressions.",
     "output_type": "error",
     "traceback": [
      "\u001b[0;31m---------------------------------------------------------------------------\u001b[0m",
      "\u001b[0;31mValueError\u001b[0m                                Traceback (most recent call last)",
      "\u001b[0;32m<ipython-input-130-180d84a6d136>\u001b[0m in \u001b[0;36m<module>\u001b[0;34m\u001b[0m\n\u001b[1;32m      2\u001b[0m                    \u001b[0;34m.\u001b[0m\u001b[0mselect\u001b[0m\u001b[0;34m(\u001b[0m\u001b[0mposexplode\u001b[0m\u001b[0;34m(\u001b[0m\u001b[0msplit\u001b[0m\u001b[0;34m(\u001b[0m\u001b[0;34m'additives_tags'\u001b[0m\u001b[0;34m,\u001b[0m\u001b[0;34m','\u001b[0m\u001b[0;34m)\u001b[0m\u001b[0;34m)\u001b[0m\u001b[0;34m,\u001b[0m\u001b[0;34m'product_name'\u001b[0m\u001b[0;34m)\u001b[0m\u001b[0;34m.\u001b[0m\u001b[0mtoDF\u001b[0m\u001b[0;34m(\u001b[0m\u001b[0;34m'pos'\u001b[0m\u001b[0;34m,\u001b[0m\u001b[0;34m'e_numbers'\u001b[0m\u001b[0;34m,\u001b[0m\u001b[0;34m'products'\u001b[0m\u001b[0;34m)\u001b[0m\u001b[0;34m\u001b[0m\u001b[0;34m\u001b[0m\u001b[0m\n\u001b[1;32m      3\u001b[0m \u001b[0;34m\u001b[0m\u001b[0m\n\u001b[0;32m----> 4\u001b[0;31m dangerous_prodDF.withColumn('Dangerous', when(col('e_numbers') in (dangerous),'dangerous')\\\n\u001b[0m\u001b[1;32m      5\u001b[0m                             .otherwise('Fine')).show()\n",
      "\u001b[0;32m/opt/spark-3.0.0-bin-hadoop3.2/python/pyspark/sql/column.py\u001b[0m in \u001b[0;36m__nonzero__\u001b[0;34m(self)\u001b[0m\n\u001b[1;32m    699\u001b[0m \u001b[0;34m\u001b[0m\u001b[0m\n\u001b[1;32m    700\u001b[0m     \u001b[0;32mdef\u001b[0m \u001b[0m__nonzero__\u001b[0m\u001b[0;34m(\u001b[0m\u001b[0mself\u001b[0m\u001b[0;34m)\u001b[0m\u001b[0;34m:\u001b[0m\u001b[0;34m\u001b[0m\u001b[0;34m\u001b[0m\u001b[0m\n\u001b[0;32m--> 701\u001b[0;31m         raise ValueError(\"Cannot convert column into bool: please use '&' for 'and', '|' for 'or', \"\n\u001b[0m\u001b[1;32m    702\u001b[0m                          \"'~' for 'not' when building DataFrame boolean expressions.\")\n\u001b[1;32m    703\u001b[0m     \u001b[0m__bool__\u001b[0m \u001b[0;34m=\u001b[0m \u001b[0m__nonzero__\u001b[0m\u001b[0;34m\u001b[0m\u001b[0;34m\u001b[0m\u001b[0m\n",
      "\u001b[0;31mValueError\u001b[0m: Cannot convert column into bool: please use '&' for 'and', '|' for 'or', '~' for 'not' when building DataFrame boolean expressions."
     ]
    }
   ],
   "source": [
    "dangerous_prodDF = ACME_selection_DF.where(col(\"additives_tags\")!=\"NA\")\\\n",
    "                   .select(posexplode(split('additives_tags',',')),'product_name').toDF('pos','e_numbers','products')\n",
    "\n",
    "dangerous_prodDF.withColumn('Dangerous', when(col('e_numbers') in dangerous,'dangerous')\\\n",
    "                            .otherwise('Fine')).show()"
   ]
  }
 ],
 "metadata": {
  "kernelspec": {
   "display_name": "Python 3",
   "language": "python",
   "name": "python3"
  },
  "language_info": {
   "codemirror_mode": {
    "name": "ipython",
    "version": 3
   },
   "file_extension": ".py",
   "mimetype": "text/x-python",
   "name": "python",
   "nbconvert_exporter": "python",
   "pygments_lexer": "ipython3",
   "version": "3.7.3"
  }
 },
 "nbformat": 4,
 "nbformat_minor": 4
}
