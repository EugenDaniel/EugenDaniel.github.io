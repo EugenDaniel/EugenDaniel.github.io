{
 "cells": [
  {
   "cell_type": "markdown",
   "metadata": {},
   "source": [
    "# <ins>Individual Assignment I</ins>\n",
    "Handed in by Eugen Wettstein"
   ]
  },
  {
   "cell_type": "markdown",
   "metadata": {},
   "source": [
    "## <ins>1. PySpark environment setup</ins>"
   ]
  },
  {
   "cell_type": "code",
   "execution_count": 301,
   "metadata": {},
   "outputs": [],
   "source": [
    "import findspark\n",
    "findspark.init()\n",
    "\n",
    "from pyspark.context import SparkContext\n",
    "from pyspark.sql.session import SparkSession\n",
    "\n",
    "sc = SparkContext.getOrCreate()\n",
    "spark = SparkSession(sc)"
   ]
  },
  {
   "cell_type": "markdown",
   "metadata": {},
   "source": [
    "## <ins>2. Data source and Spark data abstraction (DataFrame) setup</ins>"
   ]
  },
  {
   "cell_type": "code",
   "execution_count": 302,
   "metadata": {},
   "outputs": [],
   "source": [
    "ridesDF = spark.read \\\n",
    "                 .option(\"inferSchema\", \"true\") \\\n",
    "                 .option(\"header\", \"true\") \\\n",
    "                 .csv(\"cab_rides.csv\")"
   ]
  },
  {
   "cell_type": "markdown",
   "metadata": {},
   "source": [
    "## <ins>3. Data set metadata analysis</ins>\n",
    "### <ins>A. Display schema and size of the DataFrame</ins>"
   ]
  },
  {
   "cell_type": "code",
   "execution_count": 303,
   "metadata": {},
   "outputs": [
    {
     "name": "stdout",
     "output_type": "stream",
     "text": [
      "root\n",
      " |-- distance: double (nullable = true)\n",
      " |-- cab_type: string (nullable = true)\n",
      " |-- time_stamp: timestamp (nullable = true)\n",
      " |-- destination: string (nullable = true)\n",
      " |-- source: string (nullable = true)\n",
      " |-- price: double (nullable = true)\n",
      " |-- surge_multiplier: double (nullable = true)\n",
      " |-- id: string (nullable = true)\n",
      " |-- product_id: string (nullable = true)\n",
      " |-- name: string (nullable = true)\n",
      "\n"
     ]
    },
    {
     "data": {
      "text/markdown": [
       "This DataFrame has **637976 rows**."
      ],
      "text/plain": [
       "<IPython.core.display.Markdown object>"
      ]
     },
     "metadata": {},
     "output_type": "display_data"
    }
   ],
   "source": [
    "from IPython.display import display, Markdown\n",
    "\n",
    "ridesDF.printSchema()\n",
    "display(Markdown(\"This DataFrame has **%d rows**.\" % ridesDF.count()))"
   ]
  },
  {
   "cell_type": "markdown",
   "metadata": {},
   "source": [
    "### <ins>B. Get one or multiple random samples from the data set</ins>"
   ]
  },
  {
   "cell_type": "code",
   "execution_count": 304,
   "metadata": {},
   "outputs": [
    {
     "data": {
      "text/plain": [
       "[Row(distance=1.08, cab_type='Lyft', time_stamp=datetime.datetime(2018, 12, 2, 20, 53, 4, 677000), destination='Northeastern University', source='Back Bay', price=16.5, surge_multiplier=1.0, id='474d6376-bc59-4ec9-bf57-4e6d6faeb165', product_id='lyft_lux', name='Lux Black'),\n",
       " Row(distance=3.24, cab_type='Lyft', time_stamp=datetime.datetime(2018, 12, 2, 19, 23, 7, 499000), destination='Northeastern University', source='North Station', price=11.0, surge_multiplier=1.0, id='174b960d-58f1-4dfd-8672-8b43f13726a7', product_id='lyft', name='Lyft')]"
      ]
     },
     "execution_count": 304,
     "metadata": {},
     "output_type": "execute_result"
    }
   ],
   "source": [
    "ridesDF.cache() # optimization to make the processing faster\n",
    "ridesDF.sample(False, 0.1).take(2)"
   ]
  },
  {
   "cell_type": "markdown",
   "metadata": {},
   "source": [
    "### <ins>C. Data entities, metrics and dimensions</ins>\n",
    "\n",
    "I've identified the following elements:\n",
    "\n",
    "* **Entities:** Rides (main one which is measured - facts), Cab_types (dimension), City Locations (dimension)\n",
    "* **Metrics:** Timestamp\n",
    "* **Dimensions:** Distance, cab_type, destination, surge_multiplier, price, name, id\n",
    "\n",
    "### <ins>D. Column categorization</ins>\n",
    "\n",
    "The following could be a potential column categorization:\n",
    "\n",
    "* **Timing related columns:** *time_stamp*\n",
    "* **Drive related columns:** *distance*, *cab_type*, *source*, *destination*, *price* and *surge_multiplier*\n",
    "* **Company car related columns:** *id*, *product_id*, *name*"
   ]
  },
  {
   "cell_type": "markdown",
   "metadata": {},
   "source": [
    "## <ins>4. Columns groups basic profiling to better understand our data set</ins>\n",
    "### <ins>A. Timing related columns basic profiling</ins>"
   ]
  },
  {
   "cell_type": "code",
   "execution_count": 366,
   "metadata": {},
   "outputs": [
    {
     "data": {
      "text/markdown": [
       "**Summary of column time_stamp**:"
      ],
      "text/plain": [
       "<IPython.core.display.Markdown object>"
      ]
     },
     "metadata": {},
     "output_type": "display_data"
    },
    {
     "name": "stdout",
     "output_type": "stream",
     "text": [
      "+-------+--------------------+------------------+------------------+------------------+\n",
      "|summary|                year|             month|               day|              hour|\n",
      "+-------+--------------------+------------------+------------------+------------------+\n",
      "|  count|              637976|            637976|            637976|            637976|\n",
      "|   mean|              2018.0|11.589251006307448|17.762665053230844| 11.51422310557137|\n",
      "| stddev|1.135600535413938...|0.4919701589039917|10.002298741735492|6.9593165878176775|\n",
      "|    min|                2018|                11|                 1|                 0|\n",
      "|    25%|                2018|                11|                13|                 5|\n",
      "|    50%|                2018|                12|                17|                12|\n",
      "|    75%|                2018|                12|                28|                17|\n",
      "|    max|                2018|                12|                30|                23|\n",
      "+-------+--------------------+------------------+------------------+------------------+\n",
      "\n"
     ]
    },
    {
     "data": {
      "text/markdown": [
       "**Checking amount of distinct values in column time_stamp**:"
      ],
      "text/plain": [
       "<IPython.core.display.Markdown object>"
      ]
     },
     "metadata": {},
     "output_type": "display_data"
    },
    {
     "data": {
      "text/markdown": [
       "\n",
       "| year | month | day | hour |\n",
       "|----|----|----|----|\n",
       "| 1  occurrences | 2  occurrences | 16  occurrences | 24  occurrences |\n"
      ],
      "text/plain": [
       "<IPython.core.display.Markdown object>"
      ]
     },
     "metadata": {},
     "output_type": "display_data"
    },
    {
     "data": {
      "text/markdown": [
       "**Checking null values**:"
      ],
      "text/plain": [
       "<IPython.core.display.Markdown object>"
      ]
     },
     "metadata": {},
     "output_type": "display_data"
    },
    {
     "name": "stdout",
     "output_type": "stream",
     "text": [
      "+-----------+\n",
      "|null_values|\n",
      "+-----------+\n",
      "|          0|\n",
      "+-----------+\n",
      "\n"
     ]
    },
    {
     "data": {
      "text/markdown": [
       "**Checking distinct days in both months where a ride was done and there occurance of the weekday**:"
      ],
      "text/plain": [
       "<IPython.core.display.Markdown object>"
      ]
     },
     "metadata": {},
     "output_type": "display_data"
    },
    {
     "name": "stdout",
     "output_type": "stream",
     "text": [
      "+---+\n",
      "|day|\n",
      "+---+\n",
      "|  1|\n",
      "|  2|\n",
      "|  3|\n",
      "|  4|\n",
      "| 10|\n",
      "| 13|\n",
      "| 14|\n",
      "| 15|\n",
      "| 16|\n",
      "| 17|\n",
      "| 18|\n",
      "| 26|\n",
      "| 27|\n",
      "| 28|\n",
      "| 29|\n",
      "| 30|\n",
      "+---+\n",
      "\n",
      "+---+------+\n",
      "|day| count|\n",
      "+---+------+\n",
      "|Sun| 82681|\n",
      "|Mon|112880|\n",
      "|Thu| 92147|\n",
      "|Sat| 83003|\n",
      "|Wed| 65851|\n",
      "|Tue|118508|\n",
      "|Fri| 82906|\n",
      "+---+------+\n",
      "\n"
     ]
    }
   ],
   "source": [
    "from IPython.display import display, Markdown\n",
    "from pyspark.sql.functions import when, count, col, countDistinct, desc, first, lit, year, month, dayofmonth, hour, date_format, minute\n",
    "from pyspark.mllib.linalg import SparseVector\n",
    "\n",
    "display(Markdown(\"**Summary of column time_stamp**:\"))\n",
    "ridesDF.select(year(col('time_stamp')).alias('year'),month(col('time_stamp')).alias('month')\\\n",
    "               ,dayofmonth(col('time_stamp')).alias('day'),hour(col('time_stamp')).alias('hour')).summary().show()\n",
    "\n",
    "year = ridesDF.select(year(col('time_stamp'))).distinct().count()\n",
    "month = ridesDF.select(month(col('time_stamp'))).distinct().count()\n",
    "day = ridesDF.select(dayofmonth(col('time_stamp'))).distinct().count()\n",
    "hour = ridesDF.select(hour(col('time_stamp'))).distinct().count()\n",
    "\n",
    "display(Markdown(\"**Checking amount of distinct values in column time_stamp**:\"))\n",
    "\n",
    "display(Markdown(\"\"\"\n",
    "| %s | %s | %s | %s |\n",
    "|----|----|----|----|\n",
    "| %s | %s | %s | %s |\n",
    "\"\"\" % (\"year\", \"month\", \"day\", \"hour\", \\\n",
    "       \"%d  occurrences\" % year,\\\n",
    "       \"%d  occurrences\" % month,\\\n",
    "       \"%d  occurrences\" % day,\\\n",
    "       \"%d  occurrences\" % hour)))\n",
    "\n",
    "display(Markdown(\"**Checking null values**:\"))\n",
    "\n",
    "ridesDF.select(count(when(col('time_stamp').isNull(), 1)).alias('null_values')).show()\n",
    "\n",
    "display(Markdown(\"**Checking distinct days in both months where a ride was done and there occurance of the weekday**:\"))\n",
    "\n",
    "ridesDF.select(dayofmonth(col('time_stamp')).alias('day')).distinct().orderBy('day').show()\n",
    "\n",
    "ridesDF.select(date_format('time_stamp','E').alias('day')).groupby('day').count().show()\n",
    "       \n",
    "#print(year,month)\n",
    "#print(year)"
   ]
  },
  {
   "cell_type": "markdown",
   "metadata": {},
   "source": [
    "### <ins>B.Drive related columns basic profiling</ins>"
   ]
  },
  {
   "cell_type": "code",
   "execution_count": 368,
   "metadata": {},
   "outputs": [
    {
     "data": {
      "text/markdown": [
       "**Summary of columns distance, cab_type, source, destination, price and surge_multiplier**:"
      ],
      "text/plain": [
       "<IPython.core.display.Markdown object>"
      ]
     },
     "metadata": {},
     "output_type": "display_data"
    },
    {
     "name": "stdout",
     "output_type": "stream",
     "text": [
      "+-------+------------------+--------+--------+-----------+-----------------+-------------------+\n",
      "|summary|          distance|cab_type|  source|destination|            price|   surge_multiplier|\n",
      "+-------+------------------+--------+--------+-----------+-----------------+-------------------+\n",
      "|  count|            637976|  637976|  637976|     637976|           637976|             637976|\n",
      "|   mean| 2.189261100730507|    null|    null|       null|16.54512549061407| 1.0150675730748493|\n",
      "| stddev|1.1354130181861846|    null|    null|       null|9.324358581411598|0.09542184282423667|\n",
      "|    min|              0.02|    Lyft|Back Bay|   Back Bay|              2.5|                1.0|\n",
      "|    25%|              1.27|    null|    null|       null|              9.0|                1.0|\n",
      "|    50%|              2.16|    null|    null|       null|             13.5|                1.0|\n",
      "|    75%|              2.93|    null|    null|       null|             22.5|                1.0|\n",
      "|    max|              7.86|    Uber|West End|   West End|             97.5|                3.0|\n",
      "+-------+------------------+--------+--------+-----------+-----------------+-------------------+\n",
      "\n"
     ]
    },
    {
     "data": {
      "text/markdown": [
       "**Checking for nulls on columns distance, cab_type, source, destination, price and surge_multiplier**:"
      ],
      "text/plain": [
       "<IPython.core.display.Markdown object>"
      ]
     },
     "metadata": {},
     "output_type": "display_data"
    },
    {
     "name": "stdout",
     "output_type": "stream",
     "text": [
      "+--------+--------+------+-----------+-----+----------------+\n",
      "|distance|cab_type|source|destination|price|surge_multiplier|\n",
      "+--------+--------+------+-----------+-----+----------------+\n",
      "|       0|       0|     0|          0|    0|               0|\n",
      "+--------+--------+------+-----------+-----+----------------+\n",
      "\n"
     ]
    },
    {
     "data": {
      "text/markdown": [
       "**Checking amount of distinct values in columns distance, cab_type, source, destination, price and surge_multiplier**:"
      ],
      "text/plain": [
       "<IPython.core.display.Markdown object>"
      ]
     },
     "metadata": {},
     "output_type": "display_data"
    },
    {
     "name": "stdout",
     "output_type": "stream",
     "text": [
      "+--------+--------+------+-----------+-----+----------------+\n",
      "|distance|cab_type|source|destination|price|surge_multiplier|\n",
      "+--------+--------+------+-----------+-----+----------------+\n",
      "|     549|       2|    12|         12|  147|               7|\n",
      "+--------+--------+------+-----------+-----+----------------+\n",
      "\n"
     ]
    },
    {
     "data": {
      "text/markdown": [
       "**Checking frequency of dibstinct values in column source, destination and surge_multiplier**:"
      ],
      "text/plain": [
       "<IPython.core.display.Markdown object>"
      ]
     },
     "metadata": {},
     "output_type": "display_data"
    },
    {
     "data": {
      "text/markdown": [
       "\n",
       "| leastFreqSource | mostFreqSource | leastFreqDestination | mostFreqDestination | leastFreqSurge_multiplier | mostFreqSurge_multiplier |\n",
       "|----|----|----|----|----|----|\n",
       "| North Station (52576 occurrences) | Financial District (54197 occurrences) | North Station (52577 occurrences) | Financial District (54192 occurrences) | 3.0 (12 occurrences) | 1.0 (617001 occurrences) |\n"
      ],
      "text/plain": [
       "<IPython.core.display.Markdown object>"
      ]
     },
     "metadata": {},
     "output_type": "display_data"
    }
   ],
   "source": [
    "display(Markdown(\"**Summary of columns distance, cab_type, source, destination, price and surge_multiplier**:\"))\n",
    "ridesDF.select(col('distance'),col('cab_type'),col('source')\\\n",
    "               ,col('destination'),col('price'),col('surge_multiplier')).summary().show()\n",
    "\n",
    "display(Markdown(\"**Checking for nulls on columns distance, cab_type, source, destination, price and surge_multiplier**:\"))\n",
    "ridesDF.select([count(when(col(c).isNull(), c)).alias(c) for c in [\"distance\", \"cab_type\", \"source\", \"destination\", \"price\", \"surge_multiplier\"]]).show()\n",
    "\n",
    "display(Markdown(\"**Checking amount of distinct values in columns distance, cab_type, source, destination, price and surge_multiplier**:\"))\n",
    "ridesDF.select([countDistinct(c).alias(c) for c in [\"distance\", \"cab_type\", \"source\", \"destination\", \"price\", \"surge_multiplier\"]]).show()\n",
    "\n",
    "sourceDF = ridesDF.groupBy(\"source\").agg(count(lit(1)).alias(\"Total\"))\n",
    "destinationDF   = ridesDF.groupBy(\"destination\").agg(count(lit(1)).alias(\"Total\"))\n",
    "surge_multiplierDF    = ridesDF.groupBy(\"surge_multiplier\").agg(count(lit(1)).alias(\"Total\"))\n",
    "\n",
    "leastFreqSource    = sourceDF.orderBy(col(\"Total\").asc()).first()\n",
    "mostFreqSource     = sourceDF.orderBy(col(\"Total\").desc()).first()\n",
    "leastFreqDestination      = destinationDF.orderBy(col(\"Total\").asc()).first()\n",
    "mostFreqDestination      = destinationDF.orderBy(col(\"Total\").desc()).first()\n",
    "leastFreqSurge_multiplier      = surge_multiplierDF.orderBy(col(\"Total\").asc()).first()\n",
    "mostFreqSurge_multiplier        = surge_multiplierDF.orderBy(col(\"Total\").desc()).first()\n",
    "\n",
    "display(Markdown(\"**Checking frequency of dibstinct values in column source, destination and surge_multiplier**:\"))\n",
    "display(Markdown(\"\"\"\n",
    "| %s | %s | %s | %s | %s | %s |\n",
    "|----|----|----|----|----|----|\n",
    "| %s | %s | %s | %s | %s | %s |\n",
    "\"\"\" % (\"leastFreqSource\", \"mostFreqSource\", \"leastFreqDestination\", \"mostFreqDestination\",'leastFreqSurge_multiplier','mostFreqSurge_multiplier', \\\n",
    "       \"%s (%s occurrences)\" % (leastFreqSource[\"source\"], leastFreqSource[\"Total\"]), \\\n",
    "       \"%s (%s occurrences)\" % (mostFreqSource[\"source\"], mostFreqSource[\"Total\"]), \\\n",
    "       \"%s (%s occurrences)\" % (leastFreqDestination[\"destination\"], leastFreqDestination[\"Total\"]), \\\n",
    "       \"%s (%s occurrences)\" % (mostFreqDestination[\"destination\"], mostFreqDestination[\"Total\"]),\\\n",
    "       \"%s (%s occurrences)\" % (leastFreqSurge_multiplier[\"surge_multiplier\"], leastFreqSurge_multiplier[\"Total\"]), \\\n",
    "       \"%s (%s occurrences)\" % (mostFreqSurge_multiplier[\"surge_multiplier\"], mostFreqSurge_multiplier[\"Total\"]))))\n"
   ]
  },
  {
   "cell_type": "markdown",
   "metadata": {},
   "source": [
    "### <ins>C.Company car related columns basic profiling</ins>"
   ]
  },
  {
   "cell_type": "code",
   "execution_count": 372,
   "metadata": {},
   "outputs": [
    {
     "data": {
      "text/markdown": [
       "**Summary of columns id, product_id and name**:"
      ],
      "text/plain": [
       "<IPython.core.display.Markdown object>"
      ]
     },
     "metadata": {},
     "output_type": "display_data"
    },
    {
     "name": "stdout",
     "output_type": "stream",
     "text": [
      "+-------+--------------------+--------------------+------+\n",
      "|summary|                  id|          product_id|  name|\n",
      "+-------+--------------------+--------------------+------+\n",
      "|  count|              637976|              637976|637976|\n",
      "|   mean|                null|                null|  null|\n",
      "| stddev|                null|                null|  null|\n",
      "|    min|00005b8c-5647-410...|55c66225-fbe7-4fd...| Black|\n",
      "|    25%|                null|                null|  null|\n",
      "|    50%|                null|                null|  null|\n",
      "|    75%|                null|                null|  null|\n",
      "|    max|ffffecd1-49b1-498...|        lyft_premier|   WAV|\n",
      "+-------+--------------------+--------------------+------+\n",
      "\n"
     ]
    },
    {
     "data": {
      "text/markdown": [
       "**Checking for nulls on columns id, product_id and name**:"
      ],
      "text/plain": [
       "<IPython.core.display.Markdown object>"
      ]
     },
     "metadata": {},
     "output_type": "display_data"
    },
    {
     "name": "stdout",
     "output_type": "stream",
     "text": [
      "+---+----------+----+\n",
      "| id|product_id|name|\n",
      "+---+----------+----+\n",
      "|  0|         0|   0|\n",
      "+---+----------+----+\n",
      "\n"
     ]
    },
    {
     "data": {
      "text/markdown": [
       "**Checking amount of distinct values in columns id, product_id and name**:"
      ],
      "text/plain": [
       "<IPython.core.display.Markdown object>"
      ]
     },
     "metadata": {},
     "output_type": "display_data"
    },
    {
     "name": "stdout",
     "output_type": "stream",
     "text": [
      "+------+----------+----+\n",
      "|    id|product_id|name|\n",
      "+------+----------+----+\n",
      "|637976|        12|  12|\n",
      "+------+----------+----+\n",
      "\n"
     ]
    }
   ],
   "source": [
    "display(Markdown(\"**Summary of columns id, product_id and name**:\"))\n",
    "ridesDF.select(col('id'),col('product_id'),col('name')).summary().show()\n",
    "\n",
    "display(Markdown(\"**Checking for nulls on columns id, product_id and name**:\"))\n",
    "ridesDF.select([count(when(col(c).isNull(), c)).alias(c) for c in [\"id\", \"product_id\", \"name\"]]).show()\n",
    "\n",
    "display(Markdown(\"**Checking amount of distinct values in columns id, product_id and name**:\"))\n",
    "ridesDF.select([countDistinct(c).alias(c) for c in [\"id\", \"product_id\", \"name\"]]).show()"
   ]
  },
  {
   "cell_type": "markdown",
   "metadata": {},
   "source": [
    "## <ins>5. Answer some business questions to improve service</ins>\n"
   ]
  },
  {
   "cell_type": "code",
   "execution_count": 327,
   "metadata": {},
   "outputs": [
    {
     "data": {
      "text/plain": [
       "DataFrame[distance: double, cab_type: string, time_stamp: timestamp, destination: string, source: string, price: double, surge_multiplier: double, id: string, product_id: string, name: string]"
      ]
     },
     "execution_count": 327,
     "metadata": {},
     "output_type": "execute_result"
    }
   ],
   "source": [
    "# Dividing the data for each provider separately \n",
    "LyftDF = ridesDF.where(col(\"cab_type\") == 'Lyft')\n",
    "UberDF = ridesDF.where(col(\"cab_type\") == 'Uber')\n",
    "\n",
    "LyftDF.cache()\n",
    "UberDF.cache()"
   ]
  },
  {
   "cell_type": "markdown",
   "metadata": {},
   "source": [
    "### <ins>A. Ratio of rides throughout the day</ins>"
   ]
  },
  {
   "cell_type": "code",
   "execution_count": 339,
   "metadata": {},
   "outputs": [
    {
     "data": {
      "text/markdown": [
       "**Uber's rides for the months november and december**:"
      ],
      "text/plain": [
       "<IPython.core.display.Markdown object>"
      ]
     },
     "metadata": {},
     "output_type": "display_data"
    },
    {
     "name": "stdout",
     "output_type": "stream",
     "text": [
      "+-----+--------------+-----+------------------+---------------------+------------------+\n",
      "|month|   Time_of_day|rides|        avg(price)|avg(surge_multiplier)|             Ratio|\n",
      "+-----+--------------+-----+------------------+---------------------+------------------+\n",
      "|   11|Afternoon_ride|38802|15.739832998299057|                  1.0|28.552296575372704|\n",
      "|   11|  Evening_ride|36951|15.877702903845634|                  1.0|27.190245625395516|\n",
      "|   11|    Night_ride|33140|15.795368135184068|                  1.0|24.385936511206936|\n",
      "|   11|  Morning_ride|27005| 15.82234771338641|                  1.0|19.871521288024844|\n",
      "+-----+--------------+-----+------------------+---------------------+------------------+\n",
      "\n",
      "+-----+--------------+-----+------------------+---------------------+------------------+\n",
      "|month|   Time_of_day|rides|        avg(price)|avg(surge_multiplier)|             Ratio|\n",
      "+-----+--------------+-----+------------------+---------------------+------------------+\n",
      "|   12|    Night_ride|51771|15.797193409437716|                  1.0|26.594236400061643|\n",
      "|   12|  Morning_ride|49908|15.782810371082792|                  1.0|25.637232239173986|\n",
      "|   12|Afternoon_ride|48397| 15.76082195177387|                  1.0| 24.86104689988185|\n",
      "|   12|  Evening_ride|44594|15.808371081311387|                  1.0|22.907484460882518|\n",
      "+-----+--------------+-----+------------------+---------------------+------------------+\n",
      "\n"
     ]
    },
    {
     "data": {
      "text/markdown": [
       "**Lyft's rides for the months november and december**:"
      ],
      "text/plain": [
       "<IPython.core.display.Markdown object>"
      ]
     },
     "metadata": {},
     "output_type": "display_data"
    },
    {
     "name": "stdout",
     "output_type": "stream",
     "text": [
      "+-----+--------------+-----+------------------+---------------------+------------------+\n",
      "|month|   Time_of_day|rides|        avg(price)|avg(surge_multiplier)|             Ratio|\n",
      "+-----+--------------+-----+------------------+---------------------+------------------+\n",
      "|   11|Afternoon_ride|35914|17.344922592860723|   1.0321740825304895| 28.46928260007927|\n",
      "|   11|  Evening_ride|35020|17.346330668189605|   1.0310322672758423|27.760602457391993|\n",
      "|   11|    Night_ride|30260|17.350132187706542|   1.0314441506939855|23.987316686484345|\n",
      "|   11|  Morning_ride|24956| 17.22771277448309|   1.0312049206603622|19.782798256044394|\n",
      "+-----+--------------+-----+------------------+---------------------+------------------+\n",
      "\n",
      "+-----+--------------+-----+------------------+---------------------+------------------+\n",
      "|month|   Time_of_day|rides|        avg(price)|avg(surge_multiplier)|             Ratio|\n",
      "+-----+--------------+-----+------------------+---------------------+------------------+\n",
      "|   12|    Night_ride|48344|17.355377089194107|    1.031084519278504|26.671374504849442|\n",
      "|   12|  Morning_ride|46131|17.361774078168693|   1.0300015174177886|25.450462876121332|\n",
      "|   12|Afternoon_ride|44643|17.396557131017182|   1.0320766973545685|24.629533593000033|\n",
      "|   12|  Evening_ride|42140|17.371506407214046|    1.031359753203607|23.248629026029196|\n",
      "+-----+--------------+-----+------------------+---------------------+------------------+\n",
      "\n"
     ]
    }
   ],
   "source": [
    "from IPython.display import display, Markdown\n",
    "from pyspark.sql.functions import when, count, col, countDistinct, desc, first, lit, year, month, dayofmonth, hour, date_format, minute\n",
    "\n",
    "# To get statistics of the rides throughout the day we will modify slightly the data:\n",
    "# The first step of diving the data for each provides has already been made\n",
    "#   1. Binning the timestamp column\n",
    "#   2. Getting the statistics of the data\n",
    "\n",
    "\n",
    "#   1. Binning the timestamp and distance column for both services\n",
    "UberDF = UberDF.withColumn(\"Time_of_day\", when(hour(col(\"time_stamp\"))<6,\"Night_ride\")\\\n",
    "                              .when((hour(col(\"time_stamp\"))>=6) & (hour(col(\"time_stamp\"))<12),'Morning_ride')\\\n",
    "                              .when((hour(col(\"time_stamp\"))>=12) & (hour(col(\"time_stamp\"))<18),\"Afternoon_ride\")\\\n",
    "                              .otherwise(\"Evening_ride\"))\\\n",
    ".withColumn(\"Range\", when(col(\"distance\")<2.5,\"Short_distance\")\\\n",
    "                              .when((col(\"distance\")>=2.5) & (col(\"distance\")<5),'Medium_distance')\\\n",
    "                              .otherwise(\"Long_distance\"))\n",
    "UberDF.cache() # optimization to make the processing faster\n",
    "\n",
    "LyftDF = LyftDF.withColumn(\"Time_of_day\", when(hour(col(\"time_stamp\"))<6,\"Night_ride\")\\\n",
    "                              .when((hour(col(\"time_stamp\"))>=6) & (hour(col(\"time_stamp\"))<12),'Morning_ride')\\\n",
    "                              .when((hour(col(\"time_stamp\"))>=12) & (hour(col(\"time_stamp\"))<18),\"Afternoon_ride\")\\\n",
    "                              .otherwise(\"Evening_ride\"))\\\n",
    ".withColumn(\"Range\", when(col(\"distance\")<2.5,\"Short_distance\")\\\n",
    "                              .when((col(\"distance\")>=2.5) & (col(\"distance\")<5),'Medium_distance')\\\n",
    "                              .otherwise(\"Long_distance\"))\n",
    "LyftDF.cache() # optimization to make the processing faster\n",
    "\n",
    "#   2. Getting the statistics of the data\n",
    "\n",
    "display(Markdown(\"**Uber's rides for the months november and december**:\"))\n",
    "# Count for each month for Uber\n",
    "UberNovTotal = UberDF.where(month(col(\"time_stamp\"))==11).count()\n",
    "UberDecTotal = UberDF.where(month(col(\"time_stamp\"))==12).count()\n",
    "\n",
    "UberDF.where(month(col(\"time_stamp\"))==11)\\\n",
    "                   .select(month(col(\"time_stamp\")).alias('month'),\"Time_of_day\",'price','surge_multiplier')\\\n",
    "                   .groupby('month',\"Time_of_day\")\\\n",
    "                   .agg(count(\"month\").alias(\"rides\"),\\\n",
    "                        avg('price'),avg('surge_multiplier'),\\\n",
    "                        (count(\"month\")/UberNovTotal*100).alias(\"Ratio\"))\\\n",
    "                   .orderBy(desc('rides')).show()\n",
    "\n",
    "UberDF.where(month(col(\"time_stamp\"))==12)\\\n",
    "                   .select(month(col(\"time_stamp\")).alias('month'),\"Time_of_day\",'price','surge_multiplier')\\\n",
    "                   .groupby('month',\"Time_of_day\")\\\n",
    "                   .agg(count(\"month\").alias(\"rides\"),\\\n",
    "                        avg('price'), avg('surge_multiplier'),\\\n",
    "                        (count(\"month\")/UberDecTotal*100).alias(\"Ratio\"))\\\n",
    "                   .orderBy(desc('rides')).show()\n",
    "\n",
    "display(Markdown(\"**Lyft's rides for the months november and december**:\"))\n",
    "# Count for each month for Lyft\n",
    "LyftNovTotal = LyftDF.where(month(col(\"time_stamp\"))==11).count()\n",
    "LyftDecTotal = LyftDF.where(month(col(\"time_stamp\"))==12).count()\n",
    "\n",
    "LyftDF.where(month(col(\"time_stamp\"))==11)\\\n",
    "                   .select(month(col(\"time_stamp\")).alias('month'),\"Time_of_day\",'price','surge_multiplier')\\\n",
    "                   .groupby('month',\"Time_of_day\")\\\n",
    "                   .agg(count(\"month\").alias(\"rides\"),\\\n",
    "                        avg('price'), avg('surge_multiplier'),\\\n",
    "                        (count(\"month\")/LyftNovTotal*100).alias(\"Ratio\"))\\\n",
    "                   .orderBy(desc('rides')).show()\n",
    "\n",
    "LyftDF.where(month(col(\"time_stamp\"))==12)\\\n",
    "                   .select(month(col(\"time_stamp\")).alias('month'),\"Time_of_day\",'price','surge_multiplier')\\\n",
    "                   .groupby('month',\"Time_of_day\")\\\n",
    "                   .agg(count(\"month\").alias(\"rides\"),\\\n",
    "                        avg('price'), avg('surge_multiplier'),\\\n",
    "                        (count(\"month\")/LyftDecTotal*100).alias(\"Ratio\"))\\\n",
    "                   .orderBy(desc('rides')).show()"
   ]
  },
  {
   "cell_type": "markdown",
   "metadata": {},
   "source": [
    "### <ins>B. Number of rides per Hour</ins>"
   ]
  },
  {
   "cell_type": "code",
   "execution_count": 394,
   "metadata": {},
   "outputs": [
    {
     "data": {
      "text/markdown": [
       "**Amount of rides provided by Uber for each hour and for the months november and december**:"
      ],
      "text/plain": [
       "<IPython.core.display.Markdown object>"
      ]
     },
     "metadata": {},
     "output_type": "display_data"
    },
    {
     "name": "stdout",
     "output_type": "stream",
     "text": [
      "+-----+----+--------+-----+\n",
      "|month|hour|cab_type|rides|\n",
      "+-----+----+--------+-----+\n",
      "|   11|   1|    Uber| 6936|\n",
      "|   11|  23|    Uber| 6764|\n",
      "|   11|  15|    Uber| 6602|\n",
      "|   11|  12|    Uber| 6582|\n",
      "|   11|  19|    Uber| 6536|\n",
      "|   11|  17|    Uber| 6491|\n",
      "|   11|  11|    Uber| 6476|\n",
      "|   11|   0|    Uber| 6421|\n",
      "|   11|  16|    Uber| 6412|\n",
      "|   11|  14|    Uber| 6372|\n",
      "|   11|  13|    Uber| 6343|\n",
      "|   11|  18|    Uber| 6290|\n",
      "|   11|  22|    Uber| 6013|\n",
      "|   11|  10|    Uber| 5790|\n",
      "|   11|  21|    Uber| 5685|\n",
      "|   11|  20|    Uber| 5663|\n",
      "|   11|   2|    Uber| 5659|\n",
      "|   11|   5|    Uber| 4778|\n",
      "|   11|   3|    Uber| 4674|\n",
      "|   11|   4|    Uber| 4672|\n",
      "|   11|   7|    Uber| 4203|\n",
      "|   11|   8|    Uber| 3944|\n",
      "|   11|   9|    Uber| 3607|\n",
      "|   11|   6|    Uber| 2985|\n",
      "+-----+----+--------+-----+\n",
      "\n",
      "+-----+----+--------+-----+\n",
      "|month|hour|cab_type|rides|\n",
      "+-----+----+--------+-----+\n",
      "|   12|   3|    Uber| 9101|\n",
      "|   12|   7|    Uber| 9009|\n",
      "|   12|   0|    Uber| 8930|\n",
      "|   12|   6|    Uber| 8855|\n",
      "|   12|   5|    Uber| 8845|\n",
      "|   12|   4|    Uber| 8634|\n",
      "|   12|   1|    Uber| 8279|\n",
      "|   12|  17|    Uber| 8132|\n",
      "|   12|  11|    Uber| 8117|\n",
      "|   12|  14|    Uber| 8102|\n",
      "|   12|  15|    Uber| 8068|\n",
      "|   12|  16|    Uber| 8062|\n",
      "|   12|  13|    Uber| 8041|\n",
      "|   12|   9|    Uber| 8030|\n",
      "|   12|  19|    Uber| 8018|\n",
      "|   12|  12|    Uber| 7992|\n",
      "|   12|   2|    Uber| 7982|\n",
      "|   12|   8|    Uber| 7962|\n",
      "|   12|  10|    Uber| 7935|\n",
      "|   12|  18|    Uber| 7932|\n",
      "|   12|  20|    Uber| 7286|\n",
      "|   12|  21|    Uber| 7220|\n",
      "|   12|  23|    Uber| 7082|\n",
      "|   12|  22|    Uber| 7056|\n",
      "+-----+----+--------+-----+\n",
      "\n"
     ]
    },
    {
     "data": {
      "text/markdown": [
       "**Amount of rides provided by Lyft for each hour and for the months november and december**:"
      ],
      "text/plain": [
       "<IPython.core.display.Markdown object>"
      ]
     },
     "metadata": {},
     "output_type": "display_data"
    },
    {
     "name": "stdout",
     "output_type": "stream",
     "text": [
      "+-----+----+--------+-----+\n",
      "|month|hour|cab_type|rides|\n",
      "+-----+----+--------+-----+\n",
      "|   11|   1|    Lyft| 6609|\n",
      "|   11|  23|    Lyft| 6550|\n",
      "|   11|  18|    Lyft| 6234|\n",
      "|   11|  13|    Lyft| 6127|\n",
      "|   11|  14|    Lyft| 6110|\n",
      "|   11|  16|    Lyft| 6041|\n",
      "|   11|  11|    Lyft| 5966|\n",
      "|   11|  17|    Lyft| 5950|\n",
      "|   11|   0|    Lyft| 5948|\n",
      "|   11|  19|    Lyft| 5927|\n",
      "|   11|  12|    Lyft| 5844|\n",
      "|   11|  15|    Lyft| 5842|\n",
      "|   11|  22|    Lyft| 5736|\n",
      "|   11|  20|    Lyft| 5393|\n",
      "|   11|  10|    Lyft| 5344|\n",
      "|   11|  21|    Lyft| 5180|\n",
      "|   11|   2|    Lyft| 4983|\n",
      "|   11|   5|    Lyft| 4248|\n",
      "|   11|   4|    Lyft| 4242|\n",
      "|   11|   3|    Lyft| 4230|\n",
      "|   11|   7|    Lyft| 4020|\n",
      "|   11|   8|    Lyft| 3647|\n",
      "|   11|   9|    Lyft| 3203|\n",
      "|   11|   6|    Lyft| 2776|\n",
      "+-----+----+--------+-----+\n",
      "\n",
      "+-----+----+--------+-----+\n",
      "|month|hour|cab_type|rides|\n",
      "+-----+----+--------+-----+\n",
      "|   12|   6|    Lyft| 8379|\n",
      "|   12|   3|    Lyft| 8318|\n",
      "|   12|   5|    Lyft| 8254|\n",
      "|   12|   0|    Lyft| 8056|\n",
      "|   12|   1|    Lyft| 8048|\n",
      "|   12|   4|    Lyft| 7982|\n",
      "|   12|   7|    Lyft| 7915|\n",
      "|   12|   2|    Lyft| 7686|\n",
      "|   12|  18|    Lyft| 7619|\n",
      "|   12|  10|    Lyft| 7604|\n",
      "|   12|  12|    Lyft| 7528|\n",
      "|   12|  13|    Lyft| 7506|\n",
      "|   12|   9|    Lyft| 7497|\n",
      "|   12|  19|    Lyft| 7477|\n",
      "|   12|  15|    Lyft| 7464|\n",
      "|   12|  17|    Lyft| 7399|\n",
      "|   12|  14|    Lyft| 7393|\n",
      "|   12|   8|    Lyft| 7377|\n",
      "|   12|  11|    Lyft| 7359|\n",
      "|   12|  16|    Lyft| 7353|\n",
      "|   12|  20|    Lyft| 7068|\n",
      "|   12|  22|    Lyft| 6744|\n",
      "|   12|  23|    Lyft| 6697|\n",
      "|   12|  21|    Lyft| 6535|\n",
      "+-----+----+--------+-----+\n",
      "\n"
     ]
    }
   ],
   "source": [
    "from IPython.display import display, Markdown\n",
    "from pyspark.sql.functions import when, count, avg, month, col, hour\n",
    "\n",
    "display(Markdown(\"**Amount of rides provided by Uber for each hour and for the months november and december**:\"))\n",
    "\n",
    "ridesDF.where((month(col(\"time_stamp\"))==11) & (col('cab_type') == 'Uber'))\\\n",
    "                   .select(month(col(\"time_stamp\")).alias('month'),hour(col(\"time_stamp\")).alias('hour'),'cab_type')\\\n",
    "                   .groupby('month','hour','cab_type')\\\n",
    "                   .agg(count(\"*\").alias(\"rides\"))\\\n",
    "                   .orderBy(desc('rides')).show(24)\n",
    "\n",
    "ridesDF.where((month(col(\"time_stamp\"))==12) & (col('cab_type') == 'Uber'))\\\n",
    "                   .select(month(col(\"time_stamp\")).alias('month'),hour(col(\"time_stamp\")).alias('hour'),'cab_type')\\\n",
    "                   .groupby('month','hour','cab_type')\\\n",
    "                   .agg(count(\"*\").alias(\"rides\"))\\\n",
    "                   .orderBy(desc('rides')).show(24)\n",
    "\n",
    "display(Markdown(\"**Amount of rides provided by Lyft for each hour and for the months november and december**:\"))\n",
    "\n",
    "ridesDF.where((month(col(\"time_stamp\"))==11) & (col('cab_type') == 'Lyft'))\\\n",
    "                   .select(month(col(\"time_stamp\")).alias('month'),hour(col(\"time_stamp\")).alias('hour'),'cab_type')\\\n",
    "                   .groupby('month','hour','cab_type')\\\n",
    "                   .agg(count(\"*\").alias(\"rides\"))\\\n",
    "                   .orderBy(desc('rides')).show(24)\n",
    "\n",
    "ridesDF.where((month(col(\"time_stamp\"))==12) & (col('cab_type') == 'Lyft'))\\\n",
    "                   .select(month(col(\"time_stamp\")).alias('month'),hour(col(\"time_stamp\")).alias('hour'),'cab_type')\\\n",
    "                   .groupby('month','hour','cab_type')\\\n",
    "                   .agg(count(\"*\").alias(\"rides\"))\\\n",
    "                   .orderBy(desc('rides')).show(24)\n"
   ]
  },
  {
   "cell_type": "markdown",
   "metadata": {},
   "source": [
    "### <ins>C. Most frequent routes per server</ins>"
   ]
  },
  {
   "cell_type": "code",
   "execution_count": 340,
   "metadata": {},
   "outputs": [
    {
     "data": {
      "text/markdown": [
       "**Lyft's top destinations in november and december**:"
      ],
      "text/plain": [
       "<IPython.core.display.Markdown object>"
      ]
     },
     "metadata": {},
     "output_type": "display_data"
    },
    {
     "name": "stdout",
     "output_type": "stream",
     "text": [
      "+-----+--------+---------------+--------------------+------------------+-----+\n",
      "|month|cab_type|          Range|              source|       destination|rides|\n",
      "+-----+--------+---------------+--------------------+------------------+-----+\n",
      "|   11|    Lyft| Short_distance|           North End|       Beacon Hill| 1918|\n",
      "|   11|    Lyft|Medium_distance|Northeastern Univ...|          West End| 1916|\n",
      "|   11|    Lyft| Short_distance|  Financial District|     South Station| 1893|\n",
      "|   11|    Lyft| Short_distance|         Beacon Hill|         North End| 1869|\n",
      "|   11|    Lyft| Short_distance|       South Station|Financial District| 1867|\n",
      "+-----+--------+---------------+--------------------+------------------+-----+\n",
      "only showing top 5 rows\n",
      "\n",
      "+-----+--------+---------------+------------------+------------------+-----+\n",
      "|month|cab_type|          Range|            source|       destination|rides|\n",
      "+-----+--------+---------------+------------------+------------------+-----+\n",
      "|   12|    Lyft| Short_distance|     South Station|Financial District| 2759|\n",
      "|   12|    Lyft| Short_distance|Financial District|     South Station| 2733|\n",
      "|   12|    Lyft|Medium_distance|            Fenway|          West End| 2702|\n",
      "|   12|    Lyft| Short_distance|  Haymarket Square|Financial District| 2687|\n",
      "|   12|    Lyft| Short_distance|Financial District|  Haymarket Square| 2676|\n",
      "+-----+--------+---------------+------------------+------------------+-----+\n",
      "only showing top 5 rows\n",
      "\n"
     ]
    },
    {
     "data": {
      "text/markdown": [
       "**Ubers's top destinations in november and december**:"
      ],
      "text/plain": [
       "<IPython.core.display.Markdown object>"
      ]
     },
     "metadata": {},
     "output_type": "display_data"
    },
    {
     "name": "stdout",
     "output_type": "stream",
     "text": [
      "+-----+--------+--------------+------------------+------------------+-----+\n",
      "|month|cab_type|         Range|            source|       destination|rides|\n",
      "+-----+--------+--------------+------------------+------------------+-----+\n",
      "|   11|    Uber|Short_distance|     South Station|  Theatre District| 2121|\n",
      "|   11|    Uber|Short_distance|     South Station|Financial District| 2004|\n",
      "|   11|    Uber|Short_distance|  Haymarket Square|Financial District| 2003|\n",
      "|   11|    Uber|Short_distance|       Beacon Hill|         North End| 2001|\n",
      "|   11|    Uber|Short_distance|Financial District|     South Station| 2001|\n",
      "+-----+--------+--------------+------------------+------------------+-----+\n",
      "only showing top 5 rows\n",
      "\n",
      "+-----+--------+---------------+------------------+------------------+-----+\n",
      "|month|cab_type|          Range|            source|       destination|rides|\n",
      "+-----+--------+---------------+------------------+------------------+-----+\n",
      "|   12|    Uber| Short_distance|Financial District|     South Station| 2907|\n",
      "|   12|    Uber| Short_distance|     South Station|Financial District| 2904|\n",
      "|   12|    Uber| Short_distance|Financial District|  Haymarket Square| 2904|\n",
      "|   12|    Uber| Short_distance|          West End|     South Station| 2873|\n",
      "|   12|    Uber|Medium_distance|     North Station|            Fenway| 2860|\n",
      "+-----+--------+---------------+------------------+------------------+-----+\n",
      "only showing top 5 rows\n",
      "\n"
     ]
    },
    {
     "data": {
      "text/markdown": [
       "**Top destinations in november and december**:"
      ],
      "text/plain": [
       "<IPython.core.display.Markdown object>"
      ]
     },
     "metadata": {},
     "output_type": "display_data"
    },
    {
     "name": "stdout",
     "output_type": "stream",
     "text": [
      "+-----+------------------+----------------+-----+\n",
      "|month|            source|     destination|rides|\n",
      "+-----+------------------+----------------+-----+\n",
      "|   11|         North End|     Beacon Hill| 4016|\n",
      "|   11|         North End|        Back Bay| 3961|\n",
      "|   11|       Beacon Hill|       North End| 3904|\n",
      "|   11|     South Station|Theatre District| 3895|\n",
      "|   11|Financial District|   South Station| 3894|\n",
      "+-----+------------------+----------------+-----+\n",
      "only showing top 5 rows\n",
      "\n",
      "+-----+------------------+------------------+-----+\n",
      "|month|            source|       destination|rides|\n",
      "+-----+------------------+------------------+-----+\n",
      "|   12|     South Station|Financial District| 5663|\n",
      "|   12|Financial District|     South Station| 5640|\n",
      "|   12|            Fenway|          West End| 5589|\n",
      "|   12|Financial District|  Haymarket Square| 5580|\n",
      "|   12|          Back Bay|         North End| 5546|\n",
      "+-----+------------------+------------------+-----+\n",
      "only showing top 5 rows\n",
      "\n"
     ]
    }
   ],
   "source": [
    "from IPython.display import display, Markdown\n",
    "from pyspark.sql.functions import when, count, avg\n",
    "\n",
    "display(Markdown(\"**Lyft's top destinations in november and december**:\"))\n",
    "LyftDF.where(month(col(\"time_stamp\"))==11)\\\n",
    "                   .select(month(col(\"time_stamp\")).alias('month'),'cab_type','Range','source','destination')\\\n",
    "                   .groupby('month','cab_type','Range','source','destination')\\\n",
    "                   .agg(count(\"cab_type\").alias(\"rides\")) \\\n",
    "                   .orderBy(desc('rides')).show(5)\n",
    "\n",
    "LyftDF.where(month(col(\"time_stamp\"))==12)\\\n",
    "                   .select(month(col(\"time_stamp\")).alias('month'),'cab_type','Range','source','destination')\\\n",
    "                   .groupby('month','cab_type','Range','source','destination')\\\n",
    "                   .agg(count(\"cab_type\").alias(\"rides\")) \\\n",
    "                   .orderBy(desc('rides')).show(5)\n",
    "\n",
    "\n",
    "display(Markdown(\"**Ubers's top destinations in november and december**:\"))\n",
    "UberDF.where(month(col(\"time_stamp\"))==11)\\\n",
    "                   .select(month(col(\"time_stamp\")).alias('month'),'cab_type','Range','source','destination')\\\n",
    "                   .groupby('month','cab_type','Range','source','destination')\\\n",
    "                   .agg(count(\"cab_type\").alias(\"rides\")) \\\n",
    "                   .orderBy(desc('rides')).show(5)\n",
    "\n",
    "UberDF.where(month(col(\"time_stamp\"))==12)\\\n",
    "                   .select(month(col(\"time_stamp\")).alias('month'),'cab_type','Range','source','destination')\\\n",
    "                   .groupby('month','cab_type','Range','source','destination')\\\n",
    "                   .agg(count(\"cab_type\").alias(\"rides\")) \\\n",
    "                   .orderBy(desc('rides')).show(5)\n",
    "\n",
    "display(Markdown(\"**Top destinations in november and december**:\"))\n",
    "ridesDF.where(month(col(\"time_stamp\"))==11)\\\n",
    "                   .select(month(col(\"time_stamp\")).alias('month'),'source','cab_type','destination')\\\n",
    "                   .groupby('month','source','destination')\\\n",
    "                   .agg(count(\"cab_type\").alias(\"rides\")) \\\n",
    "                   .orderBy(desc('rides')).show(5)\n",
    "\n",
    "ridesDF.where(month(col(\"time_stamp\"))==12)\\\n",
    "                   .select(month(col(\"time_stamp\")).alias('month'),'source','cab_type','destination')\\\n",
    "                   .groupby('month','source','destination')\\\n",
    "                   .agg(count(\"cab_type\").alias(\"rides\")) \\\n",
    "                   .orderBy(desc('rides')).show(5)"
   ]
  },
  {
   "cell_type": "markdown",
   "metadata": {},
   "source": [
    "### <ins>D. Distance per class</ins>"
   ]
  },
  {
   "cell_type": "code",
   "execution_count": 354,
   "metadata": {},
   "outputs": [
    {
     "data": {
      "text/markdown": [
       "**Uber's top distances and classes in november and december**:"
      ],
      "text/plain": [
       "<IPython.core.display.Markdown object>"
      ]
     },
     "metadata": {},
     "output_type": "display_data"
    },
    {
     "name": "stdout",
     "output_type": "stream",
     "text": [
      "+-----+---------------+---------+-----+\n",
      "|month|          Range|     name|    n|\n",
      "+-----+---------------+---------+-----+\n",
      "|   11| Short_distance|   UberXL|13849|\n",
      "|   11| Short_distance|Black SUV|13777|\n",
      "|   11| Short_distance| UberPool|13765|\n",
      "|   11| Short_distance|    Black|13762|\n",
      "|   11| Short_distance|      WAV|13692|\n",
      "|   11| Short_distance|    UberX|13615|\n",
      "|   11|Medium_distance|      WAV| 8514|\n",
      "|   11|Medium_distance|   UberXL| 8493|\n",
      "|   11|Medium_distance|Black SUV| 8487|\n",
      "|   11|Medium_distance|    UberX| 8483|\n",
      "|   11|Medium_distance|    Black| 8460|\n",
      "|   11|Medium_distance| UberPool| 8426|\n",
      "|   11|  Long_distance|      WAV|  453|\n",
      "|   11|  Long_distance| UberPool|  443|\n",
      "|   11|  Long_distance|   UberXL|  438|\n",
      "|   11|  Long_distance|    Black|  422|\n",
      "|   11|  Long_distance|    UberX|  417|\n",
      "|   11|  Long_distance|Black SUV|  402|\n",
      "+-----+---------------+---------+-----+\n",
      "\n",
      "+-----+---------------+---------+-----+\n",
      "|month|          Range|     name|    n|\n",
      "+-----+---------------+---------+-----+\n",
      "|   12| Short_distance|    UberX|19834|\n",
      "|   12| Short_distance|      WAV|19758|\n",
      "|   12| Short_distance|    Black|19687|\n",
      "|   12| Short_distance| UberPool|19682|\n",
      "|   12| Short_distance|Black SUV|19673|\n",
      "|   12| Short_distance|   UberXL|19601|\n",
      "|   12|Medium_distance| UberPool|12168|\n",
      "|   12|Medium_distance|    Black|12136|\n",
      "|   12|Medium_distance|    UberX|12112|\n",
      "|   12|Medium_distance|Black SUV|12109|\n",
      "|   12|Medium_distance|   UberXL|12103|\n",
      "|   12|Medium_distance|      WAV|12082|\n",
      "|   12|  Long_distance|Black SUV|  648|\n",
      "|   12|  Long_distance|    UberX|  633|\n",
      "|   12|  Long_distance|    Black|  628|\n",
      "|   12|  Long_distance|   UberXL|  612|\n",
      "|   12|  Long_distance| UberPool|  607|\n",
      "|   12|  Long_distance|      WAV|  597|\n",
      "+-----+---------------+---------+-----+\n",
      "\n"
     ]
    },
    {
     "data": {
      "text/markdown": [
       "**Lyft's top distances and classes in november and december**:"
      ],
      "text/plain": [
       "<IPython.core.display.Markdown object>"
      ]
     },
     "metadata": {},
     "output_type": "display_data"
    },
    {
     "name": "stdout",
     "output_type": "stream",
     "text": [
      "+-----+---------------+------------+-----+\n",
      "|month|          Range|        name|    n|\n",
      "+-----+---------------+------------+-----+\n",
      "|   11| Short_distance|         Lux|13282|\n",
      "|   11| Short_distance|     Lyft XL|13189|\n",
      "|   11| Short_distance|   Lux Black|13181|\n",
      "|   11| Short_distance|        Lyft|13145|\n",
      "|   11| Short_distance|      Shared|13134|\n",
      "|   11| Short_distance|Lux Black XL|13068|\n",
      "|   11|Medium_distance|     Lyft XL| 7644|\n",
      "|   11|Medium_distance|        Lyft| 7609|\n",
      "|   11|Medium_distance|Lux Black XL| 7607|\n",
      "|   11|Medium_distance|      Shared| 7575|\n",
      "|   11|Medium_distance|         Lux| 7548|\n",
      "|   11|Medium_distance|   Lux Black| 7528|\n",
      "|   11|  Long_distance|Lux Black XL|  282|\n",
      "|   11|  Long_distance|         Lux|  279|\n",
      "|   11|  Long_distance|      Shared|  278|\n",
      "|   11|  Long_distance|   Lux Black|  271|\n",
      "|   11|  Long_distance|        Lyft|  270|\n",
      "|   11|  Long_distance|     Lyft XL|  260|\n",
      "+-----+---------------+------------+-----+\n",
      "\n",
      "+-----+---------------+------------+-----+\n",
      "|month|          Range|        name|    n|\n",
      "+-----+---------------+------------+-----+\n",
      "|   12| Short_distance|Lux Black XL|18874|\n",
      "|   12| Short_distance|      Shared|18806|\n",
      "|   12| Short_distance|        Lyft|18797|\n",
      "|   12| Short_distance|   Lux Black|18761|\n",
      "|   12| Short_distance|     Lyft XL|18753|\n",
      "|   12| Short_distance|         Lux|18660|\n",
      "|   12|Medium_distance|   Lux Black|11130|\n",
      "|   12|Medium_distance|         Lux|11110|\n",
      "|   12|Medium_distance|      Shared|11083|\n",
      "|   12|Medium_distance|Lux Black XL|11051|\n",
      "|   12|Medium_distance|        Lyft|11049|\n",
      "|   12|Medium_distance|     Lyft XL|11014|\n",
      "|   12|  Long_distance|     Lyft XL|  375|\n",
      "|   12|  Long_distance|        Lyft|  365|\n",
      "|   12|  Long_distance|   Lux Black|  364|\n",
      "|   12|  Long_distance|      Shared|  357|\n",
      "|   12|  Long_distance|         Lux|  356|\n",
      "|   12|  Long_distance|Lux Black XL|  353|\n",
      "+-----+---------------+------------+-----+\n",
      "\n"
     ]
    }
   ],
   "source": [
    "display(Markdown(\"**Uber's top distances and classes in november and december**:\"))\n",
    "UberDF.where(month(col(\"time_stamp\"))==11).select(month(col('time_stamp')).alias('month'),'Range','name','time_stamp')\\\n",
    "                   .groupby('month','Range','name')\\\n",
    "                   .agg(count(\"time_stamp\").alias(\"n\")) \\\n",
    "                   .orderBy(desc('n')).show()\n",
    "\n",
    "UberDF.where(month(col(\"time_stamp\"))==12).select(month(col('time_stamp')).alias('month'),'Range','name','time_stamp')\\\n",
    "                   .groupby('month','Range','name')\\\n",
    "                   .agg(count(\"time_stamp\").alias(\"n\")) \\\n",
    "                   .orderBy(desc('n')).show()\n",
    "\n",
    "display(Markdown(\"**Lyft's top distances and classes in november and december**:\"))\n",
    "LyftDF.where(month(col(\"time_stamp\"))==11).select(month(col('time_stamp')).alias('month'),'Range','name','time_stamp')\\\n",
    "                   .groupby('month','Range','name')\\\n",
    "                   .agg(count(\"time_stamp\").alias(\"n\")) \\\n",
    "                   .orderBy(desc('n')).show()\n",
    "\n",
    "LyftDF.where(month(col(\"time_stamp\"))==12).select(month(col('time_stamp')).alias('month'),'Range','name','time_stamp')\\\n",
    "                   .groupby('month','Range','name')\\\n",
    "                   .agg(count(\"time_stamp\").alias(\"n\")) \\\n",
    "                   .orderBy(desc('n')).show()\n",
    "\n"
   ]
  }
 ],
 "metadata": {
  "kernelspec": {
   "display_name": "Python 3",
   "language": "python",
   "name": "python3"
  },
  "language_info": {
   "codemirror_mode": {
    "name": "ipython",
    "version": 3
   },
   "file_extension": ".py",
   "mimetype": "text/x-python",
   "name": "python",
   "nbconvert_exporter": "python",
   "pygments_lexer": "ipython3",
   "version": "3.7.9"
  },
  "toc": {
   "base_numbering": 1,
   "nav_menu": {},
   "number_sections": true,
   "sideBar": true,
   "skip_h1_title": false,
   "title_cell": "Table of Contents",
   "title_sidebar": "Contents",
   "toc_cell": false,
   "toc_position": {},
   "toc_section_display": true,
   "toc_window_display": false
  }
 },
 "nbformat": 4,
 "nbformat_minor": 4
}
